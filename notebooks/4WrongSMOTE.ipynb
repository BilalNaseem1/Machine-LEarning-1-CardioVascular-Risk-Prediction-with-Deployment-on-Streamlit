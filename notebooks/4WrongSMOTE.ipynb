{
  "nbformat": 4,
  "nbformat_minor": 0,
  "metadata": {
    "colab": {
      "provenance": []
    },
    "kernelspec": {
      "name": "python3",
      "display_name": "Python 3"
    },
    "language_info": {
      "name": "python"
    }
  },
  "cells": [
    {
      "cell_type": "code",
      "execution_count": null,
      "metadata": {
        "id": "4OkS6LHgVL6m"
      },
      "outputs": [],
      "source": [
        "!pip install pycaret"
      ]
    },
    {
      "cell_type": "code",
      "source": [
        "!pip install lime"
      ],
      "metadata": {
        "id": "cH5HjRIcV3oL"
      },
      "execution_count": null,
      "outputs": []
    },
    {
      "cell_type": "code",
      "source": [
        "!pip install shap"
      ],
      "metadata": {
        "id": "zmUuhxY_V6IM"
      },
      "execution_count": null,
      "outputs": []
    },
    {
      "cell_type": "code",
      "source": [
        "import pandas as pd\n",
        "import numpy as np\n",
        "import matplotlib.pyplot as plt\n",
        "import seaborn as sns\n",
        "\n",
        "from statsmodels.stats.proportion import proportions_ztest\n",
        "from scipy.stats import ttest_1samp, shapiro\n",
        "from sklearn.feature_selection import chi2\n",
        "\n",
        "from sklearn.model_selection import train_test_split\n",
        "from imblearn.over_sampling import SMOTE\n",
        "from sklearn.preprocessing import StandardScaler, MinMaxScaler\n",
        "\n",
        "from sklearn.metrics import recall_score, make_scorer, roc_auc_score, confusion_matrix, classification_report, ConfusionMatrixDisplay\n",
        "\n",
        "from sklearn.model_selection import GridSearchCV, RepeatedStratifiedKFold\n",
        "\n",
        "from sklearn.linear_model import LogisticRegression\n",
        "from sklearn.naive_bayes import GaussianNB\n",
        "from sklearn.neighbors import KNeighborsClassifier\n",
        "from sklearn.svm import SVC\n",
        "from sklearn.tree import DecisionTreeClassifier\n",
        "from sklearn.ensemble import RandomForestClassifier\n",
        "import xgboost as xgb\n",
        "\n",
        "from graphviz import Source\n",
        "from sklearn.tree import export_graphviz\n",
        "from sklearn import tree\n",
        "from IPython.display import SVG, display\n",
        "import shap\n",
        "\n",
        "import warnings\n",
        "warnings.filterwarnings('ignore')"
      ],
      "metadata": {
        "id": "WTIzjWDoV8Eh"
      },
      "execution_count": null,
      "outputs": []
    },
    {
      "cell_type": "code",
      "source": [
        "from google.colab import drive\n",
        "drive.mount('/content/drive')"
      ],
      "metadata": {
        "colab": {
          "base_uri": "https://localhost:8080/"
        },
        "id": "nQ5xrmosWAOC",
        "outputId": "2e317468-4460-4532-9004-44725d30b0a8"
      },
      "execution_count": null,
      "outputs": [
        {
          "output_type": "stream",
          "name": "stdout",
          "text": [
            "Mounted at /content/drive\n"
          ]
        }
      ]
    },
    {
      "cell_type": "code",
      "source": [
        "df = pd.read_csv('/content/drive/MyDrive/ml1_final_project/data_cardiovascular_risk.csv')"
      ],
      "metadata": {
        "id": "8w-9qf2dWzQe"
      },
      "execution_count": null,
      "outputs": []
    },
    {
      "cell_type": "code",
      "source": [
        "columns_to_convert = ['sex', 'education', 'is_smoking', 'BPMeds', 'prevalentStroke', 'prevalentHyp', 'diabetes', 'TenYearCHD']\n",
        "df[columns_to_convert] = df[columns_to_convert].astype('object')"
      ],
      "metadata": {
        "id": "nUyRykmZW6AD"
      },
      "execution_count": null,
      "outputs": []
    },
    {
      "cell_type": "code",
      "source": [
        "categorical_columns = df.select_dtypes(include='object').columns\n",
        "numerical_columns = df.select_dtypes(include=['float', 'int']).columns"
      ],
      "metadata": {
        "id": "Ul-V7meoW8vp"
      },
      "execution_count": null,
      "outputs": []
    },
    {
      "cell_type": "code",
      "source": [
        "\n",
        "from sklearn.experimental import enable_iterative_imputer\n",
        "from sklearn.impute import IterativeImputer\n",
        "\n",
        "# Remove rows where 'bpmeds' column is null\n",
        "df = df.dropna(subset=['BPMeds'])\n",
        "\n",
        "imputing_median1 = df[df['is_smoking'] == 'YES']['cigsPerDay'].median()\n",
        "df['cigsPerDay'] = df['cigsPerDay'].fillna(imputing_median1)\n",
        "\n",
        "df.drop('id', axis=1, inplace=True)\n",
        "df.drop('education', axis=1, inplace=True)\n",
        "df.drop(['is_smoking', 'prevalentStroke'], axis=1, inplace=True)\n",
        "\n",
        "for var in ['totChol', 'BMI', 'heartRate']:\n",
        "  imputer = IterativeImputer(random_state=0)\n",
        "  df[[var]] = imputer.fit_transform(df[[var]])\n",
        "\n",
        "\n",
        "# fit and transform the imputer on your data\n",
        "imputer = IterativeImputer(random_state = 0)\n",
        "imputer.fit(df[['glucose']])\n",
        "\n",
        "df[['glucose']] = imputer.transform(df[['glucose']])\n"
      ],
      "metadata": {
        "id": "N9z-vAWjYQEP"
      },
      "execution_count": null,
      "outputs": []
    },
    {
      "cell_type": "code",
      "source": [
        "df.isnull().sum()"
      ],
      "metadata": {
        "colab": {
          "base_uri": "https://localhost:8080/"
        },
        "id": "3dIkEXNDYShF",
        "outputId": "4a41cc80-97ad-41e4-9c66-d984ef67f152"
      },
      "execution_count": null,
      "outputs": [
        {
          "output_type": "execute_result",
          "data": {
            "text/plain": [
              "age             0\n",
              "sex             0\n",
              "cigsPerDay      0\n",
              "BPMeds          0\n",
              "prevalentHyp    0\n",
              "diabetes        0\n",
              "totChol         0\n",
              "sysBP           0\n",
              "diaBP           0\n",
              "BMI             0\n",
              "heartRate       0\n",
              "glucose         0\n",
              "TenYearCHD      0\n",
              "dtype: int64"
            ]
          },
          "metadata": {},
          "execution_count": 41
        }
      ]
    },
    {
      "cell_type": "code",
      "source": [
        "df = pd.get_dummies(df, drop_first=True)"
      ],
      "metadata": {
        "id": "FrjW3T8aYf1w"
      },
      "execution_count": null,
      "outputs": []
    },
    {
      "cell_type": "code",
      "source": [
        "X = df.drop(['TenYearCHD_1'], axis = 1)\n",
        "y = df['TenYearCHD_1']"
      ],
      "metadata": {
        "id": "BmglIq1RYiHf"
      },
      "execution_count": null,
      "outputs": []
    },
    {
      "cell_type": "code",
      "source": [
        "X_winsorized = X.copy()"
      ],
      "metadata": {
        "id": "OzzDaKCpYkH7"
      },
      "execution_count": null,
      "outputs": []
    },
    {
      "cell_type": "code",
      "source": [
        "from scipy.stats.mstats import winsorize\n",
        "from sklearn.naive_bayes import GaussianNB\n",
        "from sklearn.metrics import roc_auc_score\n",
        "\n",
        "# Define the range of winsorizing limits to try\n",
        "lower_limits_range = [0, 0.01, 0.05, 0.1, 0.15, 0.1, 0.15, 0.2, 0.3, 0.4, 0.5, 0.6, 0.7, 0.8, 0.9, 0.95]\n",
        "upper_limits_range = [0, 0.01, 0.05, 0.1, 0.15, 0.1, 0.15, 0.2, 0.3, 0.4, 0.5, 0.6, 0.7, 0.8, 0.9, 0.95]\n",
        "\n",
        "# Initialize variables to store the optimal limits and corresponding AUC score\n",
        "optimal_limits = {}\n",
        "optimal_auc = 0\n",
        "\n",
        "# Iterate over the columns\n",
        "for column in X.columns:\n",
        "    # Initialize variables to store the optimal lower and upper limits for the current column\n",
        "    optimal_lower_limit = 0\n",
        "    optimal_upper_limit = 0\n",
        "    \n",
        "    # Iterate over the lower limits range\n",
        "    for lower_limit in lower_limits_range:\n",
        "        # Iterate over the upper limits range\n",
        "        for upper_limit in upper_limits_range:\n",
        "            # Apply winsorizing on the column with the current lower and upper limits\n",
        "            X_winsorized = X.copy()\n",
        "            X_winsorized[column] = winsorize(X_winsorized[column], limits=(lower_limit, upper_limit))\n",
        "        \n",
        "            # Split the winsorized data into training and testing sets\n",
        "            X_train, X_test, y_train, y_test = train_test_split(X_winsorized, y, test_size=0.2, random_state=42)\n",
        "        \n",
        "            # Train Gaussian Naive Bayes\n",
        "            gnb = GaussianNB()\n",
        "            gnb.fit(X_train, y_train)\n",
        "        \n",
        "            # Make predictions and calculate AUC\n",
        "            y_pred = gnb.predict_proba(X_test)[:, 1]\n",
        "            auc = roc_auc_score(y_test, y_pred)\n",
        "        \n",
        "            # Check if the current AUC is higher than the optimal AUC\n",
        "            if auc > optimal_auc:\n",
        "                optimal_auc = auc\n",
        "                optimal_lower_limit = lower_limit\n",
        "                optimal_upper_limit = upper_limit\n",
        "    \n",
        "    # Store the optimal limits for the current column\n",
        "    optimal_limits[column] = (optimal_lower_limit, optimal_upper_limit)\n",
        "\n",
        "# Print the optimal limits for each column\n",
        "for column, (lower_limit, upper_limit) in optimal_limits.items():\n",
        "    print(f\"Optimal limits for column '{column}': Lower Limit = {lower_limit}, Upper Limit = {upper_limit}\")\n",
        "\n",
        "# Print the overall optimal AUC score\n",
        "print(\"Optimal AUC:\", optimal_auc)\n"
      ],
      "metadata": {
        "colab": {
          "base_uri": "https://localhost:8080/"
        },
        "id": "CPlS7oIsYltM",
        "outputId": "a2e4f539-35a2-4868-c73c-49b13cfa8fd7"
      },
      "execution_count": null,
      "outputs": [
        {
          "output_type": "stream",
          "name": "stdout",
          "text": [
            "Optimal limits for column 'age': Lower Limit = 0, Upper Limit = 0\n",
            "Optimal limits for column 'cigsPerDay': Lower Limit = 0.7, Upper Limit = 0.01\n",
            "Optimal limits for column 'totChol': Lower Limit = 0, Upper Limit = 0\n",
            "Optimal limits for column 'sysBP': Lower Limit = 0, Upper Limit = 0\n",
            "Optimal limits for column 'diaBP': Lower Limit = 0.8, Upper Limit = 0\n",
            "Optimal limits for column 'BMI': Lower Limit = 0, Upper Limit = 0\n",
            "Optimal limits for column 'heartRate': Lower Limit = 0, Upper Limit = 0\n",
            "Optimal limits for column 'glucose': Lower Limit = 0.7, Upper Limit = 0.2\n",
            "Optimal limits for column 'sex_M': Lower Limit = 0, Upper Limit = 0\n",
            "Optimal limits for column 'BPMeds_1.0': Lower Limit = 0, Upper Limit = 0\n",
            "Optimal limits for column 'prevalentHyp_1': Lower Limit = 0, Upper Limit = 0.4\n",
            "Optimal limits for column 'diabetes_1': Lower Limit = 0, Upper Limit = 0\n",
            "Optimal AUC: 0.7270663615560642\n"
          ]
        }
      ]
    },
    {
      "cell_type": "markdown",
      "source": [
        "### Optimal winsorize on NB"
      ],
      "metadata": {
        "id": "z8TNDbq_9vBk"
      }
    },
    {
      "cell_type": "code",
      "source": [
        "df = pd.get_dummies(df, drop_first=True)\n",
        "X = df.drop(['TenYearCHD_1'], axis = 1)\n",
        "y = df['TenYearCHD_1']\n",
        "\n",
        "# Apply winsorization to each column with the optimal limits\n",
        "X_winsorized = X.copy()\n",
        "\n",
        "X_winsorized['age'] = winsorize(X_winsorized['age'], limits=(0, 0))\n",
        "X_winsorized['cigsPerDay'] = winsorize(X_winsorized['cigsPerDay'], limits=(0.7, 0.01))\n",
        "X_winsorized['totChol'] = winsorize(X_winsorized['totChol'], limits=(0, 0))\n",
        "X_winsorized['sysBP'] = winsorize(X_winsorized['sysBP'], limits=(0, 0))\n",
        "X_winsorized['diaBP'] = winsorize(X_winsorized['diaBP'], limits=(0.8, 0))\n",
        "X_winsorized['BMI'] = winsorize(X_winsorized['BMI'], limits=(0, 0))\n",
        "X_winsorized['heartRate'] = winsorize(X_winsorized['heartRate'], limits=(0, 0))\n",
        "X_winsorized['glucose'] = winsorize(X_winsorized['glucose'], limits=(0.7, 0.2))\n",
        "X_winsorized['sex_M'] = winsorize(X_winsorized['sex_M'], limits=(0, 0))\n",
        "X_winsorized['BPMeds_1.0'] = winsorize(X_winsorized['BPMeds_1.0'], limits=(0, 0))\n",
        "X_winsorized['prevalentHyp_1'] = winsorize(X_winsorized['prevalentHyp_1'], limits=(0, 0.4))\n",
        "X_winsorized['diabetes_1'] = winsorize(X_winsorized['diabetes_1'], limits=(0, 0))\n",
        "\n",
        "# Split the winsorized data into training and testing sets\n",
        "X_train, X_test, y_train, y_test = train_test_split(X_winsorized, y, test_size=0.2, random_state=42)\n",
        "\n",
        "scaler = StandardScaler()\n",
        "X_train_s = scaler.fit_transform(X_train)\n",
        "X_test_s = scaler.transform(X_test)\n",
        "\n",
        "# Train Gaussian Naive Bayes\n",
        "gnb = GaussianNB()\n",
        "gnb.fit(X_train_s, y_train)\n",
        "\n",
        "# Make predictions and calculate AUC\n",
        "y_pred = gnb.predict_proba(X_test_s)[:, 1]\n",
        "auc = roc_auc_score(y_test, y_pred)\n",
        "\n",
        "# Print the AUC score\n",
        "print(\"AUC:\", auc)\n"
      ],
      "metadata": {
        "colab": {
          "base_uri": "https://localhost:8080/"
        },
        "id": "ae7bvQpqYnMA",
        "outputId": "ea8e25fd-ffbe-4ee4-b082-4877eacc0d9c"
      },
      "execution_count": null,
      "outputs": [
        {
          "output_type": "stream",
          "name": "stdout",
          "text": [
            "AUC: 0.7453729977116705\n"
          ]
        }
      ]
    },
    {
      "cell_type": "code",
      "source": [
        "X_train"
      ],
      "metadata": {
        "colab": {
          "base_uri": "https://localhost:8080/",
          "height": 423
        },
        "id": "kJ9_5BwvIVYe",
        "outputId": "6a16a4d7-0bb3-4688-9872-1235c06968ae"
      },
      "execution_count": null,
      "outputs": [
        {
          "output_type": "execute_result",
          "data": {
            "text/plain": [
              "      age  cigsPerDay  totChol  sysBP  diaBP    BMI  heartRate  glucose  \\\n",
              "2304   55        15.0    280.0  144.0   92.0  19.50       79.0     84.0   \n",
              "952    59        15.0    167.0  156.0  104.0  15.96       72.0     84.0   \n",
              "1976   40        20.0    271.0  138.5   92.0  27.24       80.0     84.0   \n",
              "3305   58        20.0    255.0  146.0   92.0  27.47       75.0     84.0   \n",
              "1530   50        15.0    305.0  151.0  106.5  25.38      100.0     84.0   \n",
              "...   ...         ...      ...    ...    ...    ...        ...      ...   \n",
              "1109   43        15.0    185.0  125.0   92.0  23.18       75.0     84.0   \n",
              "1144   44        20.0    225.0  128.0   92.0  26.79       82.0     85.0   \n",
              "1310   60        15.0    259.0  155.0   92.0  27.94       68.0     88.0   \n",
              "870    58        15.0    279.0  181.0   92.0  22.49       66.0     84.0   \n",
              "3216   38        15.0    216.0  124.0   92.0  28.12       63.0     84.0   \n",
              "\n",
              "      sex_M  BPMeds_1.0  prevalentHyp_1  diabetes_1  \n",
              "2304      0           0               0           0  \n",
              "952       0           0               0           0  \n",
              "1976      0           0               0           0  \n",
              "3305      1           0               0           0  \n",
              "1530      0           0               0           0  \n",
              "...     ...         ...             ...         ...  \n",
              "1109      0           0               0           0  \n",
              "1144      1           0               0           0  \n",
              "1310      0           0               0           0  \n",
              "870       1           0               0           0  \n",
              "3216      1           0               0           0  \n",
              "\n",
              "[2676 rows x 12 columns]"
            ],
            "text/html": [
              "\n",
              "  <div id=\"df-be0719a6-26ff-45f6-ba63-0b93eb6fa9df\">\n",
              "    <div class=\"colab-df-container\">\n",
              "      <div>\n",
              "<style scoped>\n",
              "    .dataframe tbody tr th:only-of-type {\n",
              "        vertical-align: middle;\n",
              "    }\n",
              "\n",
              "    .dataframe tbody tr th {\n",
              "        vertical-align: top;\n",
              "    }\n",
              "\n",
              "    .dataframe thead th {\n",
              "        text-align: right;\n",
              "    }\n",
              "</style>\n",
              "<table border=\"1\" class=\"dataframe\">\n",
              "  <thead>\n",
              "    <tr style=\"text-align: right;\">\n",
              "      <th></th>\n",
              "      <th>age</th>\n",
              "      <th>cigsPerDay</th>\n",
              "      <th>totChol</th>\n",
              "      <th>sysBP</th>\n",
              "      <th>diaBP</th>\n",
              "      <th>BMI</th>\n",
              "      <th>heartRate</th>\n",
              "      <th>glucose</th>\n",
              "      <th>sex_M</th>\n",
              "      <th>BPMeds_1.0</th>\n",
              "      <th>prevalentHyp_1</th>\n",
              "      <th>diabetes_1</th>\n",
              "    </tr>\n",
              "  </thead>\n",
              "  <tbody>\n",
              "    <tr>\n",
              "      <th>2304</th>\n",
              "      <td>55</td>\n",
              "      <td>15.0</td>\n",
              "      <td>280.0</td>\n",
              "      <td>144.0</td>\n",
              "      <td>92.0</td>\n",
              "      <td>19.50</td>\n",
              "      <td>79.0</td>\n",
              "      <td>84.0</td>\n",
              "      <td>0</td>\n",
              "      <td>0</td>\n",
              "      <td>0</td>\n",
              "      <td>0</td>\n",
              "    </tr>\n",
              "    <tr>\n",
              "      <th>952</th>\n",
              "      <td>59</td>\n",
              "      <td>15.0</td>\n",
              "      <td>167.0</td>\n",
              "      <td>156.0</td>\n",
              "      <td>104.0</td>\n",
              "      <td>15.96</td>\n",
              "      <td>72.0</td>\n",
              "      <td>84.0</td>\n",
              "      <td>0</td>\n",
              "      <td>0</td>\n",
              "      <td>0</td>\n",
              "      <td>0</td>\n",
              "    </tr>\n",
              "    <tr>\n",
              "      <th>1976</th>\n",
              "      <td>40</td>\n",
              "      <td>20.0</td>\n",
              "      <td>271.0</td>\n",
              "      <td>138.5</td>\n",
              "      <td>92.0</td>\n",
              "      <td>27.24</td>\n",
              "      <td>80.0</td>\n",
              "      <td>84.0</td>\n",
              "      <td>0</td>\n",
              "      <td>0</td>\n",
              "      <td>0</td>\n",
              "      <td>0</td>\n",
              "    </tr>\n",
              "    <tr>\n",
              "      <th>3305</th>\n",
              "      <td>58</td>\n",
              "      <td>20.0</td>\n",
              "      <td>255.0</td>\n",
              "      <td>146.0</td>\n",
              "      <td>92.0</td>\n",
              "      <td>27.47</td>\n",
              "      <td>75.0</td>\n",
              "      <td>84.0</td>\n",
              "      <td>1</td>\n",
              "      <td>0</td>\n",
              "      <td>0</td>\n",
              "      <td>0</td>\n",
              "    </tr>\n",
              "    <tr>\n",
              "      <th>1530</th>\n",
              "      <td>50</td>\n",
              "      <td>15.0</td>\n",
              "      <td>305.0</td>\n",
              "      <td>151.0</td>\n",
              "      <td>106.5</td>\n",
              "      <td>25.38</td>\n",
              "      <td>100.0</td>\n",
              "      <td>84.0</td>\n",
              "      <td>0</td>\n",
              "      <td>0</td>\n",
              "      <td>0</td>\n",
              "      <td>0</td>\n",
              "    </tr>\n",
              "    <tr>\n",
              "      <th>...</th>\n",
              "      <td>...</td>\n",
              "      <td>...</td>\n",
              "      <td>...</td>\n",
              "      <td>...</td>\n",
              "      <td>...</td>\n",
              "      <td>...</td>\n",
              "      <td>...</td>\n",
              "      <td>...</td>\n",
              "      <td>...</td>\n",
              "      <td>...</td>\n",
              "      <td>...</td>\n",
              "      <td>...</td>\n",
              "    </tr>\n",
              "    <tr>\n",
              "      <th>1109</th>\n",
              "      <td>43</td>\n",
              "      <td>15.0</td>\n",
              "      <td>185.0</td>\n",
              "      <td>125.0</td>\n",
              "      <td>92.0</td>\n",
              "      <td>23.18</td>\n",
              "      <td>75.0</td>\n",
              "      <td>84.0</td>\n",
              "      <td>0</td>\n",
              "      <td>0</td>\n",
              "      <td>0</td>\n",
              "      <td>0</td>\n",
              "    </tr>\n",
              "    <tr>\n",
              "      <th>1144</th>\n",
              "      <td>44</td>\n",
              "      <td>20.0</td>\n",
              "      <td>225.0</td>\n",
              "      <td>128.0</td>\n",
              "      <td>92.0</td>\n",
              "      <td>26.79</td>\n",
              "      <td>82.0</td>\n",
              "      <td>85.0</td>\n",
              "      <td>1</td>\n",
              "      <td>0</td>\n",
              "      <td>0</td>\n",
              "      <td>0</td>\n",
              "    </tr>\n",
              "    <tr>\n",
              "      <th>1310</th>\n",
              "      <td>60</td>\n",
              "      <td>15.0</td>\n",
              "      <td>259.0</td>\n",
              "      <td>155.0</td>\n",
              "      <td>92.0</td>\n",
              "      <td>27.94</td>\n",
              "      <td>68.0</td>\n",
              "      <td>88.0</td>\n",
              "      <td>0</td>\n",
              "      <td>0</td>\n",
              "      <td>0</td>\n",
              "      <td>0</td>\n",
              "    </tr>\n",
              "    <tr>\n",
              "      <th>870</th>\n",
              "      <td>58</td>\n",
              "      <td>15.0</td>\n",
              "      <td>279.0</td>\n",
              "      <td>181.0</td>\n",
              "      <td>92.0</td>\n",
              "      <td>22.49</td>\n",
              "      <td>66.0</td>\n",
              "      <td>84.0</td>\n",
              "      <td>1</td>\n",
              "      <td>0</td>\n",
              "      <td>0</td>\n",
              "      <td>0</td>\n",
              "    </tr>\n",
              "    <tr>\n",
              "      <th>3216</th>\n",
              "      <td>38</td>\n",
              "      <td>15.0</td>\n",
              "      <td>216.0</td>\n",
              "      <td>124.0</td>\n",
              "      <td>92.0</td>\n",
              "      <td>28.12</td>\n",
              "      <td>63.0</td>\n",
              "      <td>84.0</td>\n",
              "      <td>1</td>\n",
              "      <td>0</td>\n",
              "      <td>0</td>\n",
              "      <td>0</td>\n",
              "    </tr>\n",
              "  </tbody>\n",
              "</table>\n",
              "<p>2676 rows × 12 columns</p>\n",
              "</div>\n",
              "      <button class=\"colab-df-convert\" onclick=\"convertToInteractive('df-be0719a6-26ff-45f6-ba63-0b93eb6fa9df')\"\n",
              "              title=\"Convert this dataframe to an interactive table.\"\n",
              "              style=\"display:none;\">\n",
              "        \n",
              "  <svg xmlns=\"http://www.w3.org/2000/svg\" height=\"24px\"viewBox=\"0 0 24 24\"\n",
              "       width=\"24px\">\n",
              "    <path d=\"M0 0h24v24H0V0z\" fill=\"none\"/>\n",
              "    <path d=\"M18.56 5.44l.94 2.06.94-2.06 2.06-.94-2.06-.94-.94-2.06-.94 2.06-2.06.94zm-11 1L8.5 8.5l.94-2.06 2.06-.94-2.06-.94L8.5 2.5l-.94 2.06-2.06.94zm10 10l.94 2.06.94-2.06 2.06-.94-2.06-.94-.94-2.06-.94 2.06-2.06.94z\"/><path d=\"M17.41 7.96l-1.37-1.37c-.4-.4-.92-.59-1.43-.59-.52 0-1.04.2-1.43.59L10.3 9.45l-7.72 7.72c-.78.78-.78 2.05 0 2.83L4 21.41c.39.39.9.59 1.41.59.51 0 1.02-.2 1.41-.59l7.78-7.78 2.81-2.81c.8-.78.8-2.07 0-2.86zM5.41 20L4 18.59l7.72-7.72 1.47 1.35L5.41 20z\"/>\n",
              "  </svg>\n",
              "      </button>\n",
              "      \n",
              "  <style>\n",
              "    .colab-df-container {\n",
              "      display:flex;\n",
              "      flex-wrap:wrap;\n",
              "      gap: 12px;\n",
              "    }\n",
              "\n",
              "    .colab-df-convert {\n",
              "      background-color: #E8F0FE;\n",
              "      border: none;\n",
              "      border-radius: 50%;\n",
              "      cursor: pointer;\n",
              "      display: none;\n",
              "      fill: #1967D2;\n",
              "      height: 32px;\n",
              "      padding: 0 0 0 0;\n",
              "      width: 32px;\n",
              "    }\n",
              "\n",
              "    .colab-df-convert:hover {\n",
              "      background-color: #E2EBFA;\n",
              "      box-shadow: 0px 1px 2px rgba(60, 64, 67, 0.3), 0px 1px 3px 1px rgba(60, 64, 67, 0.15);\n",
              "      fill: #174EA6;\n",
              "    }\n",
              "\n",
              "    [theme=dark] .colab-df-convert {\n",
              "      background-color: #3B4455;\n",
              "      fill: #D2E3FC;\n",
              "    }\n",
              "\n",
              "    [theme=dark] .colab-df-convert:hover {\n",
              "      background-color: #434B5C;\n",
              "      box-shadow: 0px 1px 3px 1px rgba(0, 0, 0, 0.15);\n",
              "      filter: drop-shadow(0px 1px 2px rgba(0, 0, 0, 0.3));\n",
              "      fill: #FFFFFF;\n",
              "    }\n",
              "  </style>\n",
              "\n",
              "      <script>\n",
              "        const buttonEl =\n",
              "          document.querySelector('#df-be0719a6-26ff-45f6-ba63-0b93eb6fa9df button.colab-df-convert');\n",
              "        buttonEl.style.display =\n",
              "          google.colab.kernel.accessAllowed ? 'block' : 'none';\n",
              "\n",
              "        async function convertToInteractive(key) {\n",
              "          const element = document.querySelector('#df-be0719a6-26ff-45f6-ba63-0b93eb6fa9df');\n",
              "          const dataTable =\n",
              "            await google.colab.kernel.invokeFunction('convertToInteractive',\n",
              "                                                     [key], {});\n",
              "          if (!dataTable) return;\n",
              "\n",
              "          const docLinkHtml = 'Like what you see? Visit the ' +\n",
              "            '<a target=\"_blank\" href=https://colab.research.google.com/notebooks/data_table.ipynb>data table notebook</a>'\n",
              "            + ' to learn more about interactive tables.';\n",
              "          element.innerHTML = '';\n",
              "          dataTable['output_type'] = 'display_data';\n",
              "          await google.colab.output.renderOutput(dataTable, element);\n",
              "          const docLink = document.createElement('div');\n",
              "          docLink.innerHTML = docLinkHtml;\n",
              "          element.appendChild(docLink);\n",
              "        }\n",
              "      </script>\n",
              "    </div>\n",
              "  </div>\n",
              "  "
            ]
          },
          "metadata": {},
          "execution_count": 32
        }
      ]
    },
    {
      "cell_type": "markdown",
      "source": [
        "### Smote + Optimal winsorize"
      ],
      "metadata": {
        "id": "p3JPUTFY91cV"
      }
    },
    {
      "cell_type": "code",
      "source": [
        "from imblearn.over_sampling import SMOTE\n",
        "\n",
        "# Apply SMOTE to the winsorized dataset\n",
        "smote = SMOTE(random_state=42)\n",
        "X_smote, y_smote = smote.fit_resample(X_winsorized, y)\n",
        "\n",
        "# Split the SMOTE data into training and testing sets\n",
        "X_train_smote, X_test_smote, y_train_smote, y_test_smote = train_test_split(X_smote, y_smote, test_size=0.2, random_state=42)\n",
        "\n",
        "# Train Gaussian Naive Bayes on the SMOTE data\n",
        "gnb_smote = GaussianNB()\n",
        "gnb_smote.fit(X_train_smote, y_train_smote)\n",
        "\n",
        "# Make predictions on the test set and calculate AUC\n",
        "y_pred_smote = gnb_smote.predict_proba(X_test_smote)[:, 1]\n",
        "auc_smote = roc_auc_score(y_test_smote, y_pred_smote)\n",
        "\n",
        "# Print the AUC score\n",
        "print(\"AUC (with SMOTE):\", auc_smote)"
      ],
      "metadata": {
        "colab": {
          "base_uri": "https://localhost:8080/"
        },
        "id": "_7t17OwFaFwI",
        "outputId": "5b1cf6b5-d870-4bd9-a215-2b9230a1db8f"
      },
      "execution_count": null,
      "outputs": [
        {
          "output_type": "stream",
          "name": "stdout",
          "text": [
            "AUC (with SMOTE): 0.7061843807533463\n"
          ]
        }
      ]
    },
    {
      "cell_type": "code",
      "source": [
        "type(y_smote)"
      ],
      "metadata": {
        "colab": {
          "base_uri": "https://localhost:8080/"
        },
        "id": "9oZPVRacc-kL",
        "outputId": "d5ffd83b-3540-461b-afeb-6e9f4c023952"
      },
      "execution_count": null,
      "outputs": [
        {
          "output_type": "execute_result",
          "data": {
            "text/plain": [
              "pandas.core.series.Series"
            ]
          },
          "metadata": {},
          "execution_count": 17
        }
      ]
    },
    {
      "cell_type": "code",
      "source": [
        "import seaborn as sns\n",
        "import matplotlib.pyplot as plt\n",
        "\n",
        "# Plot the distribution of y_smote\n",
        "sns.countplot(data=y_smote, x=y_smote)\n",
        "\n",
        "# Set the plot title and labels\n",
        "plt.title('Distribution of Target Variable')\n",
        "plt.xlabel('Target Variable')\n",
        "plt.ylabel('Count')\n",
        "\n",
        "# Show the plot\n",
        "plt.show()\n"
      ],
      "metadata": {
        "colab": {
          "base_uri": "https://localhost:8080/",
          "height": 472
        },
        "id": "rStUiu9TatIh",
        "outputId": "64404f5d-f4d7-4f43-afee-035d8fea50fb"
      },
      "execution_count": null,
      "outputs": [
        {
          "output_type": "display_data",
          "data": {
            "text/plain": [
              "<Figure size 640x480 with 1 Axes>"
            ],
            "image/png": "[encoded data removed]"
          },
          "metadata": {}
        }
      ]
    },
    {
      "cell_type": "code",
      "source": [
        "y_smote.value_counts()"
      ],
      "metadata": {
        "colab": {
          "base_uri": "https://localhost:8080/"
        },
        "id": "cx-dCAGVbP9w",
        "outputId": "49a87162-0022-4a9b-fbb9-b843c256318a"
      },
      "execution_count": null,
      "outputs": [
        {
          "output_type": "execute_result",
          "data": {
            "text/plain": [
              "1    2842\n",
              "0    2842\n",
              "Name: TenYearCHD_1, dtype: int64"
            ]
          },
          "metadata": {},
          "execution_count": 19
        }
      ]
    },
    {
      "cell_type": "code",
      "source": [
        "y_smote"
      ],
      "metadata": {
        "colab": {
          "base_uri": "https://localhost:8080/"
        },
        "id": "5uKmGQLbbULc",
        "outputId": "851eec0c-32df-45d9-bc9f-fd5c3e08a24f"
      },
      "execution_count": null,
      "outputs": [
        {
          "output_type": "execute_result",
          "data": {
            "text/plain": [
              "0       1\n",
              "1       0\n",
              "2       0\n",
              "3       1\n",
              "4       0\n",
              "       ..\n",
              "5679    1\n",
              "5680    1\n",
              "5681    1\n",
              "5682    1\n",
              "5683    1\n",
              "Name: TenYearCHD_1, Length: 5684, dtype: uint8"
            ]
          },
          "metadata": {},
          "execution_count": 20
        }
      ]
    },
    {
      "cell_type": "markdown",
      "source": [
        "### Apply MinMaxScaler + Optimal Winsorize"
      ],
      "metadata": {
        "id": "4dVU089SeBpl"
      }
    },
    {
      "cell_type": "code",
      "source": [
        "# Apply winsorization to each column with the optimal limits\n",
        "X_winsorized = X.copy()\n",
        "\n",
        "X_winsorized['age'] = winsorize(X_winsorized['age'], limits=(0, 0))\n",
        "X_winsorized['cigsPerDay'] = winsorize(X_winsorized['cigsPerDay'], limits=(0.7, 0.01))\n",
        "X_winsorized['totChol'] = winsorize(X_winsorized['totChol'], limits=(0, 0))\n",
        "X_winsorized['sysBP'] = winsorize(X_winsorized['sysBP'], limits=(0, 0))\n",
        "X_winsorized['diaBP'] = winsorize(X_winsorized['diaBP'], limits=(0.8, 0))\n",
        "X_winsorized['BMI'] = winsorize(X_winsorized['BMI'], limits=(0, 0))\n",
        "X_winsorized['heartRate'] = winsorize(X_winsorized['heartRate'], limits=(0, 0))\n",
        "X_winsorized['glucose'] = winsorize(X_winsorized['glucose'], limits=(0.7, 0.2))\n",
        "X_winsorized['sex_M'] = winsorize(X_winsorized['sex_M'], limits=(0, 0))\n",
        "X_winsorized['BPMeds_1.0'] = winsorize(X_winsorized['BPMeds_1.0'], limits=(0, 0))\n",
        "X_winsorized['prevalentHyp_1'] = winsorize(X_winsorized['prevalentHyp_1'], limits=(0, 0.4))\n",
        "X_winsorized['diabetes_1'] = winsorize(X_winsorized['diabetes_1'], limits=(0, 0))\n",
        "\n",
        "# Split the winsorized data into training and testing sets\n",
        "X_train, X_test, y_train, y_test = train_test_split(X_winsorized, y, test_size=0.2, random_state=42)\n",
        "\n",
        "scaler = MinMaxScaler()\n",
        "X_train = scaler.fit_transform(X_train)\n",
        "X_test = scaler.fit_transform(X_test)\n",
        "\n",
        "# Train Gaussian Naive Bayes\n",
        "gnb = GaussianNB()\n",
        "gnb.fit(X_train, y_train)\n",
        "\n",
        "# Make predictions and calculate AUC\n",
        "y_pred = gnb.predict_proba(X_test)[:, 1]\n",
        "auc = roc_auc_score(y_test, y_pred)\n",
        "\n",
        "# Print the AUC score\n",
        "print(\"AUC:\", auc)\n"
      ],
      "metadata": {
        "colab": {
          "base_uri": "https://localhost:8080/"
        },
        "id": "kn11_A-hcTxE",
        "outputId": "9268d429-f6c2-4b13-fc9c-bd7b326dbdff"
      },
      "execution_count": null,
      "outputs": [
        {
          "output_type": "stream",
          "name": "stdout",
          "text": [
            "AUC: 0.7250892448512586\n"
          ]
        }
      ]
    },
    {
      "cell_type": "markdown",
      "source": [
        "#### Optimal Winsorize + Minmax + Smote"
      ],
      "metadata": {
        "id": "YsK45F7j9-RD"
      }
    },
    {
      "cell_type": "code",
      "source": [
        "from imblearn.over_sampling import SMOTE\n",
        "\n",
        "# Apply winsorization to each column with the optimal limits\n",
        "X_winsorized = X.copy()\n",
        "\n",
        "X_winsorized['age'] = winsorize(X_winsorized['age'], limits=(0, 0))\n",
        "X_winsorized['cigsPerDay'] = winsorize(X_winsorized['cigsPerDay'], limits=(0.7, 0.01))\n",
        "X_winsorized['totChol'] = winsorize(X_winsorized['totChol'], limits=(0, 0))\n",
        "X_winsorized['sysBP'] = winsorize(X_winsorized['sysBP'], limits=(0, 0))\n",
        "X_winsorized['diaBP'] = winsorize(X_winsorized['diaBP'], limits=(0.8, 0))\n",
        "X_winsorized['BMI'] = winsorize(X_winsorized['BMI'], limits=(0, 0))\n",
        "X_winsorized['heartRate'] = winsorize(X_winsorized['heartRate'], limits=(0, 0))\n",
        "X_winsorized['glucose'] = winsorize(X_winsorized['glucose'], limits=(0.7, 0.2))\n",
        "X_winsorized['sex_M'] = winsorize(X_winsorized['sex_M'], limits=(0, 0))\n",
        "X_winsorized['BPMeds_1.0'] = winsorize(X_winsorized['BPMeds_1.0'], limits=(0, 0))\n",
        "X_winsorized['prevalentHyp_1'] = winsorize(X_winsorized['prevalentHyp_1'], limits=(0, 0.4))\n",
        "X_winsorized['diabetes_1'] = winsorize(X_winsorized['diabetes_1'], limits=(0, 0))\n",
        "\n",
        "# Apply SMOTE to the winsorized dataset\n",
        "smote = SMOTE(random_state=42)\n",
        "X_smote, y_smote = smote.fit_resample(X_winsorized, y)\n",
        "\n",
        "# Split the SMOTE data into training and testing sets\n",
        "X_train_smote, X_test_smote, y_train_smote, y_test_smote = train_test_split(X_smote, y_smote, test_size=0.2, random_state=42)\n",
        "\n",
        "scaler = MinMaxScaler()\n",
        "X_train_smote = scaler.fit_transform(X_train_smote)\n",
        "X_test_smote = scaler.transform(X_test_smote)\n",
        "\n",
        "# Train Gaussian Naive Bayes on the SMOTE data\n",
        "gnb_smote = GaussianNB()\n",
        "gnb_smote.fit(X_train_smote, y_train_smote)\n",
        "\n",
        "# Make predictions on the test set and calculate AUC\n",
        "y_pred_smote = gnb_smote.predict_proba(X_test_smote)[:, 1]\n",
        "auc_smote = roc_auc_score(y_test_smote, y_pred_smote)\n",
        "\n",
        "# Print the AUC score\n",
        "print(\"AUC (with SMOTE):\", auc_smote)"
      ],
      "metadata": {
        "colab": {
          "base_uri": "https://localhost:8080/"
        },
        "id": "PS3dlqibeReV",
        "outputId": "27b2a877-f309-4ecb-c2d0-af8ce475a978"
      },
      "execution_count": null,
      "outputs": [
        {
          "output_type": "stream",
          "name": "stdout",
          "text": [
            "AUC (with SMOTE): 0.7061812708364432\n"
          ]
        }
      ]
    },
    {
      "cell_type": "markdown",
      "source": [],
      "metadata": {
        "id": "6eeDIcgi-IUx"
      }
    },
    {
      "cell_type": "code",
      "source": [],
      "metadata": {
        "id": "RvXmk9MgfXL6"
      },
      "execution_count": null,
      "outputs": []
    }
  ]
}