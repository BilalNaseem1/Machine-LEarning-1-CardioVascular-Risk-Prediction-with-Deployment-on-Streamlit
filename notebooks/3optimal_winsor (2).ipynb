{
  "nbformat": 4,
  "nbformat_minor": 0,
  "metadata": {
    "colab": {
      "provenance": [],
      "collapsed_sections": [
        "w4s0lr7fI3iS",
        "2B6S2i3uI_jc",
        "xxjn3avlM0Xp"
      ]
    },
    "kernelspec": {
      "name": "python3",
      "display_name": "Python 3"
    },
    "language_info": {
      "name": "python"
    }
  },
  "cells": [
    {
      "cell_type": "code",
      "execution_count": null,
      "metadata": {
        "colab": {
          "base_uri": "https://localhost:8080/"
        },
        "id": "m5DECS-hCZmv",
        "outputId": "545afb9d-ce09-4a20-a11d-e116a3814b01"
      },
      "outputs": [
        {
          "output_type": "stream",
          "name": "stdout",
          "text": [
            "Looking in indexes: https://pypi.org/simple, https://us-python.pkg.dev/colab-wheels/public/simple/\n",
            "Requirement already satisfied: pycaret in /usr/local/lib/python3.10/dist-packages (3.0.2)\n",
            "Requirement already satisfied: ipython>=5.5.0 in /usr/local/lib/python3.10/dist-packages (from pycaret) (7.34.0)\n",
            "Requirement already satisfied: ipywidgets>=7.6.5 in /usr/local/lib/python3.10/dist-packages (from pycaret) (7.7.1)\n",
            "Requirement already satisfied: tqdm>=4.62.0 in /usr/local/lib/python3.10/dist-packages (from pycaret) (4.65.0)\n",
            "Requirement already satisfied: numpy<1.24,>=1.21 in /usr/local/lib/python3.10/dist-packages (from pycaret) (1.22.4)\n",
            "Requirement already satisfied: pandas<2.0.0,>=1.3.0 in /usr/local/lib/python3.10/dist-packages (from pycaret) (1.5.3)\n",
            "Requirement already satisfied: jinja2>=1.2 in /usr/local/lib/python3.10/dist-packages (from pycaret) (3.1.2)\n",
            "Requirement already satisfied: scipy<2.0.0 in /usr/local/lib/python3.10/dist-packages (from pycaret) (1.10.1)\n",
            "Requirement already satisfied: joblib>=1.2.0 in /usr/local/lib/python3.10/dist-packages (from pycaret) (1.2.0)\n",
            "Requirement already satisfied: scikit-learn>=1.0 in /usr/local/lib/python3.10/dist-packages (from pycaret) (1.2.2)\n",
            "Requirement already satisfied: pyod>=1.0.8 in /usr/local/lib/python3.10/dist-packages (from pycaret) (1.0.9)\n",
            "Requirement already satisfied: imbalanced-learn>=0.8.1 in /usr/local/lib/python3.10/dist-packages (from pycaret) (0.10.1)\n",
            "Requirement already satisfied: category-encoders>=2.4.0 in /usr/local/lib/python3.10/dist-packages (from pycaret) (2.6.1)\n",
            "Requirement already satisfied: lightgbm>=3.0.0 in /usr/local/lib/python3.10/dist-packages (from pycaret) (3.3.5)\n",
            "Requirement already satisfied: numba>=0.55.0 in /usr/local/lib/python3.10/dist-packages (from pycaret) (0.56.4)\n",
            "Requirement already satisfied: requests>=2.27.1 in /usr/local/lib/python3.10/dist-packages (from pycaret) (2.27.1)\n",
            "Requirement already satisfied: psutil>=5.9.0 in /usr/local/lib/python3.10/dist-packages (from pycaret) (5.9.5)\n",
            "Requirement already satisfied: markupsafe>=2.0.1 in /usr/local/lib/python3.10/dist-packages (from pycaret) (2.1.2)\n",
            "Requirement already satisfied: importlib-metadata>=4.12.0 in /usr/local/lib/python3.10/dist-packages (from pycaret) (6.6.0)\n",
            "Requirement already satisfied: nbformat>=4.2.0 in /usr/local/lib/python3.10/dist-packages (from pycaret) (5.8.0)\n",
            "Requirement already satisfied: cloudpickle in /usr/local/lib/python3.10/dist-packages (from pycaret) (2.2.1)\n",
            "Requirement already satisfied: deprecation>=2.1.0 in /usr/local/lib/python3.10/dist-packages (from pycaret) (2.1.0)\n",
            "Requirement already satisfied: xxhash in /usr/local/lib/python3.10/dist-packages (from pycaret) (3.2.0)\n",
            "Requirement already satisfied: matplotlib>=3.3.0 in /usr/local/lib/python3.10/dist-packages (from pycaret) (3.7.1)\n",
            "Requirement already satisfied: scikit-plot>=0.3.7 in /usr/local/lib/python3.10/dist-packages (from pycaret) (0.3.7)\n",
            "Requirement already satisfied: yellowbrick>=1.4 in /usr/local/lib/python3.10/dist-packages (from pycaret) (1.5)\n",
            "Requirement already satisfied: plotly>=5.0.0 in /usr/local/lib/python3.10/dist-packages (from pycaret) (5.13.1)\n",
            "Requirement already satisfied: kaleido>=0.2.1 in /usr/local/lib/python3.10/dist-packages (from pycaret) (0.2.1)\n",
            "Requirement already satisfied: schemdraw==0.15 in /usr/local/lib/python3.10/dist-packages (from pycaret) (0.15)\n",
            "Requirement already satisfied: plotly-resampler>=0.8.3.1 in /usr/local/lib/python3.10/dist-packages (from pycaret) (0.8.3.2)\n",
            "Requirement already satisfied: statsmodels>=0.12.1 in /usr/local/lib/python3.10/dist-packages (from pycaret) (0.13.5)\n",
            "Requirement already satisfied: sktime!=0.17.1,<0.17.2,>=0.16.1 in /usr/local/lib/python3.10/dist-packages (from pycaret) (0.17.0)\n",
            "Requirement already satisfied: tbats>=1.1.3 in /usr/local/lib/python3.10/dist-packages (from pycaret) (1.1.3)\n",
            "Requirement already satisfied: pmdarima!=1.8.1,<3.0.0,>=1.8.0 in /usr/local/lib/python3.10/dist-packages (from pycaret) (2.0.3)\n",
            "Requirement already satisfied: wurlitzer in /usr/local/lib/python3.10/dist-packages (from pycaret) (3.0.3)\n",
            "Requirement already satisfied: patsy>=0.5.1 in /usr/local/lib/python3.10/dist-packages (from category-encoders>=2.4.0->pycaret) (0.5.3)\n",
            "Requirement already satisfied: packaging in /usr/local/lib/python3.10/dist-packages (from deprecation>=2.1.0->pycaret) (23.1)\n",
            "Requirement already satisfied: threadpoolctl>=2.0.0 in /usr/local/lib/python3.10/dist-packages (from imbalanced-learn>=0.8.1->pycaret) (3.1.0)\n",
            "Requirement already satisfied: zipp>=0.5 in /usr/local/lib/python3.10/dist-packages (from importlib-metadata>=4.12.0->pycaret) (3.15.0)\n",
            "Requirement already satisfied: setuptools>=18.5 in /usr/local/lib/python3.10/dist-packages (from ipython>=5.5.0->pycaret) (67.7.2)\n",
            "Requirement already satisfied: jedi>=0.16 in /usr/local/lib/python3.10/dist-packages (from ipython>=5.5.0->pycaret) (0.18.2)\n",
            "Requirement already satisfied: decorator in /usr/local/lib/python3.10/dist-packages (from ipython>=5.5.0->pycaret) (4.4.2)\n",
            "Requirement already satisfied: pickleshare in /usr/local/lib/python3.10/dist-packages (from ipython>=5.5.0->pycaret) (0.7.5)\n",
            "Requirement already satisfied: traitlets>=4.2 in /usr/local/lib/python3.10/dist-packages (from ipython>=5.5.0->pycaret) (5.7.1)\n",
            "Requirement already satisfied: prompt-toolkit!=3.0.0,!=3.0.1,<3.1.0,>=2.0.0 in /usr/local/lib/python3.10/dist-packages (from ipython>=5.5.0->pycaret) (3.0.38)\n",
            "Requirement already satisfied: pygments in /usr/local/lib/python3.10/dist-packages (from ipython>=5.5.0->pycaret) (2.14.0)\n",
            "Requirement already satisfied: backcall in /usr/local/lib/python3.10/dist-packages (from ipython>=5.5.0->pycaret) (0.2.0)\n",
            "Requirement already satisfied: matplotlib-inline in /usr/local/lib/python3.10/dist-packages (from ipython>=5.5.0->pycaret) (0.1.6)\n",
            "Requirement already satisfied: pexpect>4.3 in /usr/local/lib/python3.10/dist-packages (from ipython>=5.5.0->pycaret) (4.8.0)\n",
            "Requirement already satisfied: ipykernel>=4.5.1 in /usr/local/lib/python3.10/dist-packages (from ipywidgets>=7.6.5->pycaret) (5.5.6)\n",
            "Requirement already satisfied: ipython-genutils~=0.2.0 in /usr/local/lib/python3.10/dist-packages (from ipywidgets>=7.6.5->pycaret) (0.2.0)\n",
            "Requirement already satisfied: widgetsnbextension~=3.6.0 in /usr/local/lib/python3.10/dist-packages (from ipywidgets>=7.6.5->pycaret) (3.6.4)\n",
            "Requirement already satisfied: jupyterlab-widgets>=1.0.0 in /usr/local/lib/python3.10/dist-packages (from ipywidgets>=7.6.5->pycaret) (3.0.7)\n",
            "Requirement already satisfied: wheel in /usr/local/lib/python3.10/dist-packages (from lightgbm>=3.0.0->pycaret) (0.40.0)\n",
            "Requirement already satisfied: contourpy>=1.0.1 in /usr/local/lib/python3.10/dist-packages (from matplotlib>=3.3.0->pycaret) (1.0.7)\n",
            "Requirement already satisfied: cycler>=0.10 in /usr/local/lib/python3.10/dist-packages (from matplotlib>=3.3.0->pycaret) (0.11.0)\n",
            "Requirement already satisfied: fonttools>=4.22.0 in /usr/local/lib/python3.10/dist-packages (from matplotlib>=3.3.0->pycaret) (4.39.3)\n",
            "Requirement already satisfied: kiwisolver>=1.0.1 in /usr/local/lib/python3.10/dist-packages (from matplotlib>=3.3.0->pycaret) (1.4.4)\n",
            "Requirement already satisfied: pillow>=6.2.0 in /usr/local/lib/python3.10/dist-packages (from matplotlib>=3.3.0->pycaret) (8.4.0)\n",
            "Requirement already satisfied: pyparsing>=2.3.1 in /usr/local/lib/python3.10/dist-packages (from matplotlib>=3.3.0->pycaret) (3.0.9)\n",
            "Requirement already satisfied: python-dateutil>=2.7 in /usr/local/lib/python3.10/dist-packages (from matplotlib>=3.3.0->pycaret) (2.8.2)\n",
            "Requirement already satisfied: fastjsonschema in /usr/local/lib/python3.10/dist-packages (from nbformat>=4.2.0->pycaret) (2.16.3)\n",
            "Requirement already satisfied: jsonschema>=2.6 in /usr/local/lib/python3.10/dist-packages (from nbformat>=4.2.0->pycaret) (4.3.3)\n",
            "Requirement already satisfied: jupyter-core in /usr/local/lib/python3.10/dist-packages (from nbformat>=4.2.0->pycaret) (5.3.0)\n",
            "Requirement already satisfied: llvmlite<0.40,>=0.39.0dev0 in /usr/local/lib/python3.10/dist-packages (from numba>=0.55.0->pycaret) (0.39.1)\n",
            "Requirement already satisfied: pytz>=2020.1 in /usr/local/lib/python3.10/dist-packages (from pandas<2.0.0,>=1.3.0->pycaret) (2022.7.1)\n",
            "Requirement already satisfied: tenacity>=6.2.0 in /usr/local/lib/python3.10/dist-packages (from plotly>=5.0.0->pycaret) (8.2.2)\n",
            "Requirement already satisfied: dash<3.0.0,>=2.2.0 in /usr/local/lib/python3.10/dist-packages (from plotly-resampler>=0.8.3.1->pycaret) (2.9.3)\n",
            "Requirement already satisfied: jupyter-dash>=0.4.2 in /usr/local/lib/python3.10/dist-packages (from plotly-resampler>=0.8.3.1->pycaret) (0.4.2)\n",
            "Requirement already satisfied: orjson<4.0.0,>=3.8.0 in /usr/local/lib/python3.10/dist-packages (from plotly-resampler>=0.8.3.1->pycaret) (3.8.13)\n",
            "Requirement already satisfied: trace-updater>=0.0.8 in /usr/local/lib/python3.10/dist-packages (from plotly-resampler>=0.8.3.1->pycaret) (0.0.9.1)\n",
            "Requirement already satisfied: Cython!=0.29.18,!=0.29.31,>=0.29 in /usr/local/lib/python3.10/dist-packages (from pmdarima!=1.8.1,<3.0.0,>=1.8.0->pycaret) (0.29.34)\n",
            "Requirement already satisfied: urllib3 in /usr/local/lib/python3.10/dist-packages (from pmdarima!=1.8.1,<3.0.0,>=1.8.0->pycaret) (1.26.15)\n",
            "Requirement already satisfied: six in /usr/local/lib/python3.10/dist-packages (from pyod>=1.0.8->pycaret) (1.16.0)\n",
            "Requirement already satisfied: certifi>=2017.4.17 in /usr/local/lib/python3.10/dist-packages (from requests>=2.27.1->pycaret) (2022.12.7)\n",
            "Requirement already satisfied: charset-normalizer~=2.0.0 in /usr/local/lib/python3.10/dist-packages (from requests>=2.27.1->pycaret) (2.0.12)\n",
            "Requirement already satisfied: idna<4,>=2.5 in /usr/local/lib/python3.10/dist-packages (from requests>=2.27.1->pycaret) (3.4)\n",
            "Requirement already satisfied: deprecated>=1.2.13 in /usr/local/lib/python3.10/dist-packages (from sktime!=0.17.1,<0.17.2,>=0.16.1->pycaret) (1.2.13)\n",
            "Requirement already satisfied: Flask>=1.0.4 in /usr/local/lib/python3.10/dist-packages (from dash<3.0.0,>=2.2.0->plotly-resampler>=0.8.3.1->pycaret) (2.2.4)\n",
            "Requirement already satisfied: dash-html-components==2.0.0 in /usr/local/lib/python3.10/dist-packages (from dash<3.0.0,>=2.2.0->plotly-resampler>=0.8.3.1->pycaret) (2.0.0)\n",
            "Requirement already satisfied: dash-core-components==2.0.0 in /usr/local/lib/python3.10/dist-packages (from dash<3.0.0,>=2.2.0->plotly-resampler>=0.8.3.1->pycaret) (2.0.0)\n",
            "Requirement already satisfied: dash-table==5.0.0 in /usr/local/lib/python3.10/dist-packages (from dash<3.0.0,>=2.2.0->plotly-resampler>=0.8.3.1->pycaret) (5.0.0)\n",
            "Requirement already satisfied: wrapt<2,>=1.10 in /usr/local/lib/python3.10/dist-packages (from deprecated>=1.2.13->sktime!=0.17.1,<0.17.2,>=0.16.1->pycaret) (1.14.1)\n",
            "Requirement already satisfied: jupyter-client in /usr/local/lib/python3.10/dist-packages (from ipykernel>=4.5.1->ipywidgets>=7.6.5->pycaret) (6.1.12)\n",
            "Requirement already satisfied: tornado>=4.2 in /usr/local/lib/python3.10/dist-packages (from ipykernel>=4.5.1->ipywidgets>=7.6.5->pycaret) (6.3.1)\n",
            "Requirement already satisfied: parso<0.9.0,>=0.8.0 in /usr/local/lib/python3.10/dist-packages (from jedi>=0.16->ipython>=5.5.0->pycaret) (0.8.3)\n",
            "Requirement already satisfied: attrs>=17.4.0 in /usr/local/lib/python3.10/dist-packages (from jsonschema>=2.6->nbformat>=4.2.0->pycaret) (23.1.0)\n",
            "Requirement already satisfied: pyrsistent!=0.17.0,!=0.17.1,!=0.17.2,>=0.14.0 in /usr/local/lib/python3.10/dist-packages (from jsonschema>=2.6->nbformat>=4.2.0->pycaret) (0.19.3)\n",
            "Requirement already satisfied: retrying in /usr/local/lib/python3.10/dist-packages (from jupyter-dash>=0.4.2->plotly-resampler>=0.8.3.1->pycaret) (1.3.4)\n",
            "Requirement already satisfied: ansi2html in /usr/local/lib/python3.10/dist-packages (from jupyter-dash>=0.4.2->plotly-resampler>=0.8.3.1->pycaret) (1.8.0)\n",
            "Requirement already satisfied: nest-asyncio in /usr/local/lib/python3.10/dist-packages (from jupyter-dash>=0.4.2->plotly-resampler>=0.8.3.1->pycaret) (1.5.6)\n",
            "Requirement already satisfied: ptyprocess>=0.5 in /usr/local/lib/python3.10/dist-packages (from pexpect>4.3->ipython>=5.5.0->pycaret) (0.7.0)\n",
            "Requirement already satisfied: wcwidth in /usr/local/lib/python3.10/dist-packages (from prompt-toolkit!=3.0.0,!=3.0.1,<3.1.0,>=2.0.0->ipython>=5.5.0->pycaret) (0.2.6)\n",
            "Requirement already satisfied: notebook>=4.4.1 in /usr/local/lib/python3.10/dist-packages (from widgetsnbextension~=3.6.0->ipywidgets>=7.6.5->pycaret) (6.4.8)\n",
            "Requirement already satisfied: platformdirs>=2.5 in /usr/local/lib/python3.10/dist-packages (from jupyter-core->nbformat>=4.2.0->pycaret) (3.3.0)\n",
            "Requirement already satisfied: Werkzeug>=2.2.2 in /usr/local/lib/python3.10/dist-packages (from Flask>=1.0.4->dash<3.0.0,>=2.2.0->plotly-resampler>=0.8.3.1->pycaret) (2.3.0)\n",
            "Requirement already satisfied: itsdangerous>=2.0 in /usr/local/lib/python3.10/dist-packages (from Flask>=1.0.4->dash<3.0.0,>=2.2.0->plotly-resampler>=0.8.3.1->pycaret) (2.1.2)\n",
            "Requirement already satisfied: click>=8.0 in /usr/local/lib/python3.10/dist-packages (from Flask>=1.0.4->dash<3.0.0,>=2.2.0->plotly-resampler>=0.8.3.1->pycaret) (8.1.3)\n",
            "Requirement already satisfied: pyzmq>=17 in /usr/local/lib/python3.10/dist-packages (from notebook>=4.4.1->widgetsnbextension~=3.6.0->ipywidgets>=7.6.5->pycaret) (23.2.1)\n",
            "Requirement already satisfied: argon2-cffi in /usr/local/lib/python3.10/dist-packages (from notebook>=4.4.1->widgetsnbextension~=3.6.0->ipywidgets>=7.6.5->pycaret) (21.3.0)\n",
            "Requirement already satisfied: nbconvert in /usr/local/lib/python3.10/dist-packages (from notebook>=4.4.1->widgetsnbextension~=3.6.0->ipywidgets>=7.6.5->pycaret) (6.5.4)\n",
            "Requirement already satisfied: Send2Trash>=1.8.0 in /usr/local/lib/python3.10/dist-packages (from notebook>=4.4.1->widgetsnbextension~=3.6.0->ipywidgets>=7.6.5->pycaret) (1.8.0)\n",
            "Requirement already satisfied: terminado>=0.8.3 in /usr/local/lib/python3.10/dist-packages (from notebook>=4.4.1->widgetsnbextension~=3.6.0->ipywidgets>=7.6.5->pycaret) (0.17.1)\n",
            "Requirement already satisfied: prometheus-client in /usr/local/lib/python3.10/dist-packages (from notebook>=4.4.1->widgetsnbextension~=3.6.0->ipywidgets>=7.6.5->pycaret) (0.16.0)\n",
            "Requirement already satisfied: argon2-cffi-bindings in /usr/local/lib/python3.10/dist-packages (from argon2-cffi->notebook>=4.4.1->widgetsnbextension~=3.6.0->ipywidgets>=7.6.5->pycaret) (21.2.0)\n",
            "Requirement already satisfied: lxml in /usr/local/lib/python3.10/dist-packages (from nbconvert->notebook>=4.4.1->widgetsnbextension~=3.6.0->ipywidgets>=7.6.5->pycaret) (4.9.2)\n",
            "Requirement already satisfied: beautifulsoup4 in /usr/local/lib/python3.10/dist-packages (from nbconvert->notebook>=4.4.1->widgetsnbextension~=3.6.0->ipywidgets>=7.6.5->pycaret) (4.11.2)\n",
            "Requirement already satisfied: bleach in /usr/local/lib/python3.10/dist-packages (from nbconvert->notebook>=4.4.1->widgetsnbextension~=3.6.0->ipywidgets>=7.6.5->pycaret) (6.0.0)\n",
            "Requirement already satisfied: defusedxml in /usr/local/lib/python3.10/dist-packages (from nbconvert->notebook>=4.4.1->widgetsnbextension~=3.6.0->ipywidgets>=7.6.5->pycaret) (0.7.1)\n",
            "Requirement already satisfied: entrypoints>=0.2.2 in /usr/local/lib/python3.10/dist-packages (from nbconvert->notebook>=4.4.1->widgetsnbextension~=3.6.0->ipywidgets>=7.6.5->pycaret) (0.4)\n",
            "Requirement already satisfied: jupyterlab-pygments in /usr/local/lib/python3.10/dist-packages (from nbconvert->notebook>=4.4.1->widgetsnbextension~=3.6.0->ipywidgets>=7.6.5->pycaret) (0.2.2)\n",
            "Requirement already satisfied: mistune<2,>=0.8.1 in /usr/local/lib/python3.10/dist-packages (from nbconvert->notebook>=4.4.1->widgetsnbextension~=3.6.0->ipywidgets>=7.6.5->pycaret) (0.8.4)\n",
            "Requirement already satisfied: nbclient>=0.5.0 in /usr/local/lib/python3.10/dist-packages (from nbconvert->notebook>=4.4.1->widgetsnbextension~=3.6.0->ipywidgets>=7.6.5->pycaret) (0.7.4)\n",
            "Requirement already satisfied: pandocfilters>=1.4.1 in /usr/local/lib/python3.10/dist-packages (from nbconvert->notebook>=4.4.1->widgetsnbextension~=3.6.0->ipywidgets>=7.6.5->pycaret) (1.5.0)\n",
            "Requirement already satisfied: tinycss2 in /usr/local/lib/python3.10/dist-packages (from nbconvert->notebook>=4.4.1->widgetsnbextension~=3.6.0->ipywidgets>=7.6.5->pycaret) (1.2.1)\n",
            "Requirement already satisfied: cffi>=1.0.1 in /usr/local/lib/python3.10/dist-packages (from argon2-cffi-bindings->argon2-cffi->notebook>=4.4.1->widgetsnbextension~=3.6.0->ipywidgets>=7.6.5->pycaret) (1.15.1)\n",
            "Requirement already satisfied: soupsieve>1.2 in /usr/local/lib/python3.10/dist-packages (from beautifulsoup4->nbconvert->notebook>=4.4.1->widgetsnbextension~=3.6.0->ipywidgets>=7.6.5->pycaret) (2.4.1)\n",
            "Requirement already satisfied: webencodings in /usr/local/lib/python3.10/dist-packages (from bleach->nbconvert->notebook>=4.4.1->widgetsnbextension~=3.6.0->ipywidgets>=7.6.5->pycaret) (0.5.1)\n",
            "Requirement already satisfied: pycparser in /usr/local/lib/python3.10/dist-packages (from cffi>=1.0.1->argon2-cffi-bindings->argon2-cffi->notebook>=4.4.1->widgetsnbextension~=3.6.0->ipywidgets>=7.6.5->pycaret) (2.21)\n"
          ]
        }
      ],
      "source": [
        "!pip install pycaret"
      ]
    },
    {
      "cell_type": "code",
      "source": [
        "!pip install lime"
      ],
      "metadata": {
        "colab": {
          "base_uri": "https://localhost:8080/"
        },
        "id": "q1gzyVUBCoEU",
        "outputId": "0ff370b1-4b45-4a17-d8eb-41b295c649ec"
      },
      "execution_count": null,
      "outputs": [
        {
          "output_type": "stream",
          "name": "stdout",
          "text": [
            "Looking in indexes: https://pypi.org/simple, https://us-python.pkg.dev/colab-wheels/public/simple/\n",
            "Collecting lime\n",
            "  Downloading lime-0.2.0.1.tar.gz (275 kB)\n",
            "\u001b[2K     \u001b[90m━━━━━━━━━━━━━━━━━━━━━━━━━━━━━━━━━━━━━━━\u001b[0m \u001b[32m275.7/275.7 kB\u001b[0m \u001b[31m6.7 MB/s\u001b[0m eta \u001b[36m0:00:00\u001b[0m\n",
            "\u001b[?25h  Preparing metadata (setup.py) ... \u001b[?25l\u001b[?25hdone\n",
            "Requirement already satisfied: matplotlib in /usr/local/lib/python3.10/dist-packages (from lime) (3.7.1)\n",
            "Requirement already satisfied: numpy in /usr/local/lib/python3.10/dist-packages (from lime) (1.22.4)\n",
            "Requirement already satisfied: scipy in /usr/local/lib/python3.10/dist-packages (from lime) (1.10.1)\n",
            "Requirement already satisfied: tqdm in /usr/local/lib/python3.10/dist-packages (from lime) (4.65.0)\n",
            "Requirement already satisfied: scikit-learn>=0.18 in /usr/local/lib/python3.10/dist-packages (from lime) (1.2.2)\n",
            "Requirement already satisfied: scikit-image>=0.12 in /usr/local/lib/python3.10/dist-packages (from lime) (0.19.3)\n",
            "Requirement already satisfied: networkx>=2.2 in /usr/local/lib/python3.10/dist-packages (from scikit-image>=0.12->lime) (3.1)\n",
            "Requirement already satisfied: pillow!=7.1.0,!=7.1.1,!=8.3.0,>=6.1.0 in /usr/local/lib/python3.10/dist-packages (from scikit-image>=0.12->lime) (8.4.0)\n",
            "Requirement already satisfied: imageio>=2.4.1 in /usr/local/lib/python3.10/dist-packages (from scikit-image>=0.12->lime) (2.25.1)\n",
            "Requirement already satisfied: tifffile>=2019.7.26 in /usr/local/lib/python3.10/dist-packages (from scikit-image>=0.12->lime) (2023.4.12)\n",
            "Requirement already satisfied: PyWavelets>=1.1.1 in /usr/local/lib/python3.10/dist-packages (from scikit-image>=0.12->lime) (1.4.1)\n",
            "Requirement already satisfied: packaging>=20.0 in /usr/local/lib/python3.10/dist-packages (from scikit-image>=0.12->lime) (23.1)\n",
            "Requirement already satisfied: joblib>=1.1.1 in /usr/local/lib/python3.10/dist-packages (from scikit-learn>=0.18->lime) (1.2.0)\n",
            "Requirement already satisfied: threadpoolctl>=2.0.0 in /usr/local/lib/python3.10/dist-packages (from scikit-learn>=0.18->lime) (3.1.0)\n",
            "Requirement already satisfied: contourpy>=1.0.1 in /usr/local/lib/python3.10/dist-packages (from matplotlib->lime) (1.0.7)\n",
            "Requirement already satisfied: cycler>=0.10 in /usr/local/lib/python3.10/dist-packages (from matplotlib->lime) (0.11.0)\n",
            "Requirement already satisfied: fonttools>=4.22.0 in /usr/local/lib/python3.10/dist-packages (from matplotlib->lime) (4.39.3)\n",
            "Requirement already satisfied: kiwisolver>=1.0.1 in /usr/local/lib/python3.10/dist-packages (from matplotlib->lime) (1.4.4)\n",
            "Requirement already satisfied: pyparsing>=2.3.1 in /usr/local/lib/python3.10/dist-packages (from matplotlib->lime) (3.0.9)\n",
            "Requirement already satisfied: python-dateutil>=2.7 in /usr/local/lib/python3.10/dist-packages (from matplotlib->lime) (2.8.2)\n",
            "Requirement already satisfied: six>=1.5 in /usr/local/lib/python3.10/dist-packages (from python-dateutil>=2.7->matplotlib->lime) (1.16.0)\n",
            "Building wheels for collected packages: lime\n",
            "  Building wheel for lime (setup.py) ... \u001b[?25l\u001b[?25hdone\n",
            "  Created wheel for lime: filename=lime-0.2.0.1-py3-none-any.whl size=283839 sha256=3940023f62d89f1d958498c377f7fa3a2aaf66a5b936d4422ee61ebfe429b5fd\n",
            "  Stored in directory: /root/.cache/pip/wheels/fd/a2/af/9ac0a1a85a27f314a06b39e1f492bee1547d52549a4606ed89\n",
            "Successfully built lime\n",
            "Installing collected packages: lime\n",
            "Successfully installed lime-0.2.0.1\n"
          ]
        }
      ]
    },
    {
      "cell_type": "code",
      "source": [
        "!pip install shap"
      ],
      "metadata": {
        "colab": {
          "base_uri": "https://localhost:8080/"
        },
        "id": "SsjduA6iCqop",
        "outputId": "10a4266a-08c0-45bc-b4ac-935f82a2784c"
      },
      "execution_count": null,
      "outputs": [
        {
          "output_type": "stream",
          "name": "stdout",
          "text": [
            "Looking in indexes: https://pypi.org/simple, https://us-python.pkg.dev/colab-wheels/public/simple/\n",
            "Collecting shap\n",
            "  Downloading shap-0.41.0-cp310-cp310-manylinux_2_12_x86_64.manylinux2010_x86_64.whl (572 kB)\n",
            "\u001b[2K     \u001b[90m━━━━━━━━━━━━━━━━━━━━━━━━━━━━━━━━━━━━━━\u001b[0m \u001b[32m572.6/572.6 kB\u001b[0m \u001b[31m10.1 MB/s\u001b[0m eta \u001b[36m0:00:00\u001b[0m\n",
            "\u001b[?25hRequirement already satisfied: numpy in /usr/local/lib/python3.10/dist-packages (from shap) (1.22.4)\n",
            "Requirement already satisfied: scipy in /usr/local/lib/python3.10/dist-packages (from shap) (1.10.1)\n",
            "Requirement already satisfied: scikit-learn in /usr/local/lib/python3.10/dist-packages (from shap) (1.2.2)\n",
            "Requirement already satisfied: pandas in /usr/local/lib/python3.10/dist-packages (from shap) (1.5.3)\n",
            "Requirement already satisfied: tqdm>4.25.0 in /usr/local/lib/python3.10/dist-packages (from shap) (4.65.0)\n",
            "Requirement already satisfied: packaging>20.9 in /usr/local/lib/python3.10/dist-packages (from shap) (23.1)\n",
            "Collecting slicer==0.0.7 (from shap)\n",
            "  Downloading slicer-0.0.7-py3-none-any.whl (14 kB)\n",
            "Requirement already satisfied: numba in /usr/local/lib/python3.10/dist-packages (from shap) (0.56.4)\n",
            "Requirement already satisfied: cloudpickle in /usr/local/lib/python3.10/dist-packages (from shap) (2.2.1)\n",
            "Requirement already satisfied: llvmlite<0.40,>=0.39.0dev0 in /usr/local/lib/python3.10/dist-packages (from numba->shap) (0.39.1)\n",
            "Requirement already satisfied: setuptools in /usr/local/lib/python3.10/dist-packages (from numba->shap) (67.7.2)\n",
            "Requirement already satisfied: python-dateutil>=2.8.1 in /usr/local/lib/python3.10/dist-packages (from pandas->shap) (2.8.2)\n",
            "Requirement already satisfied: pytz>=2020.1 in /usr/local/lib/python3.10/dist-packages (from pandas->shap) (2022.7.1)\n",
            "Requirement already satisfied: joblib>=1.1.1 in /usr/local/lib/python3.10/dist-packages (from scikit-learn->shap) (1.2.0)\n",
            "Requirement already satisfied: threadpoolctl>=2.0.0 in /usr/local/lib/python3.10/dist-packages (from scikit-learn->shap) (3.1.0)\n",
            "Requirement already satisfied: six>=1.5 in /usr/local/lib/python3.10/dist-packages (from python-dateutil>=2.8.1->pandas->shap) (1.16.0)\n",
            "Installing collected packages: slicer, shap\n",
            "Successfully installed shap-0.41.0 slicer-0.0.7\n"
          ]
        }
      ]
    },
    {
      "cell_type": "code",
      "source": [
        "import pandas as pd\n",
        "import numpy as np\n",
        "import matplotlib.pyplot as plt\n",
        "import seaborn as sns\n",
        "\n",
        "from statsmodels.stats.proportion import proportions_ztest\n",
        "from scipy.stats import ttest_1samp, shapiro\n",
        "from sklearn.feature_selection import chi2\n",
        "\n",
        "from sklearn.model_selection import train_test_split\n",
        "from imblearn.over_sampling import SMOTE\n",
        "from sklearn.preprocessing import StandardScaler, MinMaxScaler\n",
        "\n",
        "from sklearn.metrics import recall_score, make_scorer, roc_auc_score, confusion_matrix, classification_report, ConfusionMatrixDisplay\n",
        "\n",
        "from sklearn.model_selection import GridSearchCV, RepeatedStratifiedKFold\n",
        "\n",
        "from sklearn.linear_model import LogisticRegression\n",
        "from sklearn.naive_bayes import GaussianNB\n",
        "from sklearn.neighbors import KNeighborsClassifier\n",
        "from sklearn.svm import SVC\n",
        "from sklearn.tree import DecisionTreeClassifier\n",
        "from sklearn.ensemble import RandomForestClassifier\n",
        "import xgboost as xgb\n",
        "\n",
        "from graphviz import Source\n",
        "from sklearn.tree import export_graphviz\n",
        "from sklearn import tree\n",
        "from IPython.display import SVG, display\n",
        "import shap\n",
        "\n",
        "import warnings\n",
        "warnings.filterwarnings('ignore')"
      ],
      "metadata": {
        "id": "_raL0fHcChGh"
      },
      "execution_count": null,
      "outputs": []
    },
    {
      "cell_type": "code",
      "source": [
        "from google.colab import drive\n",
        "drive.mount('/content/drive')"
      ],
      "metadata": {
        "colab": {
          "base_uri": "https://localhost:8080/"
        },
        "id": "TK_s4BN3CtyT",
        "outputId": "3922fdff-2b3c-410c-faa1-ccebba3b194c"
      },
      "execution_count": null,
      "outputs": [
        {
          "output_type": "stream",
          "name": "stdout",
          "text": [
            "Mounted at /content/drive\n"
          ]
        }
      ]
    },
    {
      "cell_type": "markdown",
      "source": [
        "# Exp 1: optimal windsor old nulls"
      ],
      "metadata": {
        "id": "w4s0lr7fI3iS"
      }
    },
    {
      "cell_type": "code",
      "source": [
        "df = pd.read_csv('/content/drive/MyDrive/ml1_final_project/data_cardiovascular_risk.csv')"
      ],
      "metadata": {
        "id": "KK6DPfg6CkxU"
      },
      "execution_count": null,
      "outputs": []
    },
    {
      "cell_type": "code",
      "source": [
        "columns_to_convert = ['sex', 'education', 'is_smoking', 'BPMeds', 'prevalentStroke', 'prevalentHyp', 'diabetes', 'TenYearCHD']\n",
        "df[columns_to_convert] = df[columns_to_convert].astype('object')"
      ],
      "metadata": {
        "id": "zINCcM6zC1qc"
      },
      "execution_count": null,
      "outputs": []
    },
    {
      "cell_type": "code",
      "source": [
        "categorical_columns = df.select_dtypes(include='object').columns\n",
        "numerical_columns = df.select_dtypes(include=['float', 'int']).columns"
      ],
      "metadata": {
        "id": "lmP5wY_AC6Mb"
      },
      "execution_count": null,
      "outputs": []
    },
    {
      "cell_type": "code",
      "source": [
        "categorical_columns"
      ],
      "metadata": {
        "colab": {
          "base_uri": "https://localhost:8080/"
        },
        "id": "y58X6NjEC8vN",
        "outputId": "df2f12ea-bf8d-45d5-faec-a258dea604d6"
      },
      "execution_count": null,
      "outputs": [
        {
          "output_type": "execute_result",
          "data": {
            "text/plain": [
              "Index(['education', 'sex', 'is_smoking', 'BPMeds', 'prevalentStroke',\n",
              "       'prevalentHyp', 'diabetes', 'TenYearCHD'],\n",
              "      dtype='object')"
            ]
          },
          "metadata": {},
          "execution_count": 19
        }
      ]
    },
    {
      "cell_type": "code",
      "source": [
        "numerical_columns"
      ],
      "metadata": {
        "colab": {
          "base_uri": "https://localhost:8080/"
        },
        "id": "bDTqJqXLC9Sa",
        "outputId": "e06e097a-e316-4be5-ec2c-9498ecc1bcb4"
      },
      "execution_count": null,
      "outputs": [
        {
          "output_type": "execute_result",
          "data": {
            "text/plain": [
              "Index(['id', 'age', 'cigsPerDay', 'totChol', 'sysBP', 'diaBP', 'BMI',\n",
              "       'heartRate', 'glucose'],\n",
              "      dtype='object')"
            ]
          },
          "metadata": {},
          "execution_count": 20
        }
      ]
    },
    {
      "cell_type": "code",
      "source": [
        "null_counts = df.isnull().sum().sort_values(ascending=False)\n",
        "\n",
        "# Calculate the percentage of null values in each numerical column\n",
        "null_percentages = (null_counts / len(df)) * 100\n",
        "\n",
        "# Create a DataFrame with null counts and percentages\n",
        "null_table = pd.DataFrame({\n",
        "    'Null Count': null_counts,\n",
        "    'Null Percentage': null_percentages\n",
        "})\n",
        "\n",
        "# Display the null table\n",
        "print(null_table)"
      ],
      "metadata": {
        "colab": {
          "base_uri": "https://localhost:8080/"
        },
        "id": "xv5bzqjFDfST",
        "outputId": "728baab4-70ca-4933-9507-955b3d694a5b"
      },
      "execution_count": null,
      "outputs": [
        {
          "output_type": "stream",
          "name": "stdout",
          "text": [
            "                 Null Count  Null Percentage\n",
            "glucose                 304         8.967552\n",
            "education                87         2.566372\n",
            "BPMeds                   44         1.297935\n",
            "totChol                  38         1.120944\n",
            "cigsPerDay               22         0.648968\n",
            "BMI                      14         0.412979\n",
            "heartRate                 1         0.029499\n",
            "id                        0         0.000000\n",
            "diaBP                     0         0.000000\n",
            "sysBP                     0         0.000000\n",
            "prevalentHyp              0         0.000000\n",
            "diabetes                  0         0.000000\n",
            "age                       0         0.000000\n",
            "prevalentStroke           0         0.000000\n",
            "is_smoking                0         0.000000\n",
            "sex                       0         0.000000\n",
            "TenYearCHD                0         0.000000\n"
          ]
        }
      ]
    },
    {
      "cell_type": "code",
      "source": [
        "# Remove rows where 'bpmeds' column is null\n",
        "df = df.dropna(subset=['BPMeds'])\n",
        "\n",
        "imputing_median1 = df[df['is_smoking'] == 'YES']['cigsPerDay'].median()\n",
        "df['cigsPerDay'] = df['cigsPerDay'].fillna(imputing_median1)\n",
        "\n",
        "for var in ['totChol', 'BMI', 'heartRate']:\n",
        "  imputing_median = df[var].median()\n",
        "  df[var]  = df[var].fillna(imputing_median)\n",
        "\n",
        "df.drop('id', axis=1, inplace=True)\n",
        "df.drop('education', axis=1, inplace=True)\n",
        "df.drop(['is_smoking', 'prevalentStroke'], axis=1, inplace=True)\n",
        "\n",
        "from sklearn.experimental import enable_iterative_imputer\n",
        "from sklearn.impute import IterativeImputer\n",
        "\n",
        "\n",
        "# fit and transform the imputer on your data\n",
        "imputer = IterativeImputer(random_state = 0)\n",
        "imputer.fit(df[['glucose']])\n",
        "\n",
        "df[['glucose']] = imputer.transform(df[['glucose']])\n"
      ],
      "metadata": {
        "id": "wUBD_2tnDwSe"
      },
      "execution_count": null,
      "outputs": []
    },
    {
      "cell_type": "code",
      "source": [
        "df.isnull().sum()"
      ],
      "metadata": {
        "colab": {
          "base_uri": "https://localhost:8080/"
        },
        "id": "GJifhKzwExHO",
        "outputId": "40fd1a4d-fa77-4852-cb06-51c044b7c6d2"
      },
      "execution_count": null,
      "outputs": [
        {
          "output_type": "execute_result",
          "data": {
            "text/plain": [
              "age             0\n",
              "sex             0\n",
              "cigsPerDay      0\n",
              "BPMeds          0\n",
              "prevalentHyp    0\n",
              "diabetes        0\n",
              "totChol         0\n",
              "sysBP           0\n",
              "diaBP           0\n",
              "BMI             0\n",
              "heartRate       0\n",
              "glucose         0\n",
              "TenYearCHD      0\n",
              "dtype: int64"
            ]
          },
          "metadata": {},
          "execution_count": 23
        }
      ]
    },
    {
      "cell_type": "code",
      "source": [
        "df = pd.get_dummies(df, drop_first=True)"
      ],
      "metadata": {
        "id": "oMfvhfnGGLt7"
      },
      "execution_count": null,
      "outputs": []
    },
    {
      "cell_type": "code",
      "source": [
        "X = df.drop(['TenYearCHD_1'], axis = 1)\n",
        "y = df['TenYearCHD_1']"
      ],
      "metadata": {
        "id": "sL3nTFdWE3-t"
      },
      "execution_count": null,
      "outputs": []
    },
    {
      "cell_type": "code",
      "source": [
        "X_winsorized = X.copy()"
      ],
      "metadata": {
        "id": "IVRBpBM8GGfq"
      },
      "execution_count": null,
      "outputs": []
    },
    {
      "cell_type": "code",
      "source": [
        "from scipy.stats.mstats import winsorize\n",
        "from sklearn.naive_bayes import GaussianNB\n",
        "from sklearn.metrics import roc_auc_score\n",
        "\n",
        "# Define the range of winsorizing limits to try\n",
        "lower_limits_range = [0, 0.01, 0.05, 0.1, 0.15, 0.1, 0.15, 0.2, 0.3, 0.4, 0.5, 0.6, 0.7, 0.8, 0.9, 0.95]\n",
        "upper_limits_range = [0, 0.01, 0.05, 0.1, 0.15, 0.1, 0.15, 0.2, 0.3, 0.4, 0.5, 0.6, 0.7, 0.8, 0.9, 0.95]\n",
        "\n",
        "# Initialize variables to store the optimal limits and corresponding AUC score\n",
        "optimal_limits = {}\n",
        "optimal_auc = 0\n",
        "\n",
        "# Iterate over the columns\n",
        "for column in X.columns:\n",
        "    # Initialize variables to store the optimal lower and upper limits for the current column\n",
        "    optimal_lower_limit = 0\n",
        "    optimal_upper_limit = 0\n",
        "    \n",
        "    # Iterate over the lower limits range\n",
        "    for lower_limit in lower_limits_range:\n",
        "        # Iterate over the upper limits range\n",
        "        for upper_limit in upper_limits_range:\n",
        "            # Apply winsorizing on the column with the current lower and upper limits\n",
        "            X_winsorized = X.copy()\n",
        "            X_winsorized[column] = winsorize(X_winsorized[column], limits=(lower_limit, upper_limit))\n",
        "        \n",
        "            # Split the winsorized data into training and testing sets\n",
        "            X_train, X_test, y_train, y_test = train_test_split(X_winsorized, y, test_size=0.2, random_state=42)\n",
        "        \n",
        "            # Train Gaussian Naive Bayes\n",
        "            gnb = GaussianNB()\n",
        "            gnb.fit(X_train, y_train)\n",
        "        \n",
        "            # Make predictions and calculate AUC\n",
        "            y_pred = gnb.predict_proba(X_test)[:, 1]\n",
        "            auc = roc_auc_score(y_test, y_pred)\n",
        "        \n",
        "            # Check if the current AUC is higher than the optimal AUC\n",
        "            if auc > optimal_auc:\n",
        "                optimal_auc = auc\n",
        "                optimal_lower_limit = lower_limit\n",
        "                optimal_upper_limit = upper_limit\n",
        "    \n",
        "    # Store the optimal limits for the current column\n",
        "    optimal_limits[column] = (optimal_lower_limit, optimal_upper_limit)\n",
        "\n",
        "# Print the optimal limits for each column\n",
        "for column, (lower_limit, upper_limit) in optimal_limits.items():\n",
        "    print(f\"Optimal limits for column '{column}': Lower Limit = {lower_limit}, Upper Limit = {upper_limit}\")\n",
        "\n",
        "# Print the overall optimal AUC score\n",
        "print(\"Optimal AUC:\", optimal_auc)\n"
      ],
      "metadata": {
        "colab": {
          "base_uri": "https://localhost:8080/"
        },
        "id": "KjQLyg0EGWhh",
        "outputId": "354854b2-e277-406b-f0ed-c4a86a4b8ef4"
      },
      "execution_count": null,
      "outputs": [
        {
          "output_type": "stream",
          "name": "stdout",
          "text": [
            "Optimal limits for column 'age': Lower Limit = 0, Upper Limit = 0\n",
            "Optimal limits for column 'cigsPerDay': Lower Limit = 0.7, Upper Limit = 0.01\n",
            "Optimal limits for column 'totChol': Lower Limit = 0, Upper Limit = 0\n",
            "Optimal limits for column 'sysBP': Lower Limit = 0, Upper Limit = 0\n",
            "Optimal limits for column 'diaBP': Lower Limit = 0.8, Upper Limit = 0\n",
            "Optimal limits for column 'BMI': Lower Limit = 0, Upper Limit = 0\n",
            "Optimal limits for column 'heartRate': Lower Limit = 0, Upper Limit = 0\n",
            "Optimal limits for column 'glucose': Lower Limit = 0.7, Upper Limit = 0.2\n",
            "Optimal limits for column 'sex_M': Lower Limit = 0, Upper Limit = 0\n",
            "Optimal limits for column 'BPMeds_1.0': Lower Limit = 0, Upper Limit = 0\n",
            "Optimal limits for column 'prevalentHyp_1': Lower Limit = 0, Upper Limit = 0.4\n",
            "Optimal limits for column 'diabetes_1': Lower Limit = 0, Upper Limit = 0\n",
            "Optimal AUC: 0.7269016018306635\n"
          ]
        }
      ]
    },
    {
      "cell_type": "code",
      "source": [],
      "metadata": {
        "colab": {
          "base_uri": "https://localhost:8080/"
        },
        "id": "AWKJ2IzrGde1",
        "outputId": "513541b5-9df6-4e7d-e961-61e11e8941d3"
      },
      "execution_count": null,
      "outputs": [
        {
          "output_type": "stream",
          "name": "stdout",
          "text": [
            "Optimal limits for column 'glucose': Lower Limit = 0.15, Upper Limit = 0.15\n",
            "Optimal limits for column 'totChol': Lower Limit = 0, Upper Limit = 0\n",
            "Optimal limits for column 'BMI': Lower Limit = 0, Upper Limit = 0\n",
            "Optimal limits for column 'heartRate': Lower Limit = 0, Upper Limit = 0\n",
            "Optimal AUC: 0.7197803203661327\n"
          ]
        }
      ]
    },
    {
      "cell_type": "code",
      "source": [],
      "metadata": {
        "id": "wMXDV4FhG1kQ"
      },
      "execution_count": null,
      "outputs": []
    },
    {
      "cell_type": "markdown",
      "source": [
        "# Exp 2: optimal windsor iterative imputer on 3 also nulls"
      ],
      "metadata": {
        "id": "2B6S2i3uI_jc"
      }
    },
    {
      "cell_type": "code",
      "source": [
        "df = pd.read_csv('/content/drive/MyDrive/ml1_final_project/data_cardiovascular_risk.csv')\n",
        "\n",
        "columns_to_convert = ['sex', 'education', 'is_smoking', 'BPMeds', 'prevalentStroke', 'prevalentHyp', 'diabetes', 'TenYearCHD']\n",
        "df[columns_to_convert] = df[columns_to_convert].astype('object')\n",
        "\n",
        "categorical_columns = df.select_dtypes(include='object').columns\n",
        "numerical_columns = df.select_dtypes(include=['float', 'int']).columns\n",
        "\n"
      ],
      "metadata": {
        "id": "OVc_q2HAI_jd"
      },
      "execution_count": null,
      "outputs": []
    },
    {
      "cell_type": "code",
      "source": [
        "\n",
        "from sklearn.experimental import enable_iterative_imputer\n",
        "from sklearn.impute import IterativeImputer\n",
        "\n",
        "# Remove rows where 'bpmeds' column is null\n",
        "df = df.dropna(subset=['BPMeds'])\n",
        "\n",
        "imputing_median1 = df[df['is_smoking'] == 'YES']['cigsPerDay'].median()\n",
        "df['cigsPerDay'] = df['cigsPerDay'].fillna(imputing_median1)\n",
        "\n",
        "df.drop('id', axis=1, inplace=True)\n",
        "df.drop('education', axis=1, inplace=True)\n",
        "df.drop(['is_smoking', 'prevalentStroke'], axis=1, inplace=True)\n",
        "\n",
        "for var in ['totChol', 'BMI', 'heartRate']:\n",
        "  imputer = IterativeImputer(random_state=0)\n",
        "  df[[var]] = imputer.fit_transform(df[[var]])\n",
        "\n",
        "\n",
        "\n",
        "\n",
        "# fit and transform the imputer on your data\n",
        "imputer = IterativeImputer(random_state = 0)\n",
        "imputer.fit(df[['glucose']])\n",
        "\n",
        "df[['glucose']] = imputer.transform(df[['glucose']])\n"
      ],
      "metadata": {
        "id": "YuAEZ2QXI_jg"
      },
      "execution_count": null,
      "outputs": []
    },
    {
      "cell_type": "code",
      "source": [
        "df.isnull().sum()"
      ],
      "metadata": {
        "colab": {
          "base_uri": "https://localhost:8080/"
        },
        "outputId": "70c9e6f2-0575-42c0-8320-6d18f3a1de0b",
        "id": "rB31c2iRI_jh"
      },
      "execution_count": null,
      "outputs": [
        {
          "output_type": "execute_result",
          "data": {
            "text/plain": [
              "age             0\n",
              "sex             0\n",
              "cigsPerDay      0\n",
              "BPMeds          0\n",
              "prevalentHyp    0\n",
              "diabetes        0\n",
              "totChol         0\n",
              "sysBP           0\n",
              "diaBP           0\n",
              "BMI             0\n",
              "heartRate       0\n",
              "glucose         0\n",
              "TenYearCHD      0\n",
              "dtype: int64"
            ]
          },
          "metadata": {},
          "execution_count": 51
        }
      ]
    },
    {
      "cell_type": "code",
      "source": [
        "df = pd.get_dummies(df, drop_first=True)"
      ],
      "metadata": {
        "id": "oFDbZ38fI_jh"
      },
      "execution_count": null,
      "outputs": []
    },
    {
      "cell_type": "code",
      "source": [
        "X = df.drop(['TenYearCHD_1'], axis = 1)\n",
        "y = df['TenYearCHD_1']"
      ],
      "metadata": {
        "id": "dc1L42oGI_jh"
      },
      "execution_count": null,
      "outputs": []
    },
    {
      "cell_type": "code",
      "source": [
        "X_winsorized = X.copy()"
      ],
      "metadata": {
        "id": "iz9IMHsBI_jh"
      },
      "execution_count": null,
      "outputs": []
    },
    {
      "cell_type": "code",
      "source": [
        "from scipy.stats.mstats import winsorize\n",
        "from sklearn.naive_bayes import GaussianNB\n",
        "from sklearn.metrics import roc_auc_score\n",
        "\n",
        "# Define the range of winsorizing limits to try\n",
        "lower_limits_range = [0, 0.01, 0.05, 0.1, 0.15, 0.1, 0.15, 0.2, 0.3, 0.4, 0.5, 0.6, 0.7, 0.8, 0.9, 0.95]\n",
        "upper_limits_range = [0, 0.01, 0.05, 0.1, 0.15, 0.1, 0.15, 0.2, 0.3, 0.4, 0.5, 0.6, 0.7, 0.8, 0.9, 0.95]\n",
        "\n",
        "# Initialize variables to store the optimal limits and corresponding AUC score\n",
        "optimal_limits = {}\n",
        "optimal_auc = 0\n",
        "\n",
        "# Iterate over the columns\n",
        "for column in X.columns:\n",
        "    # Initialize variables to store the optimal lower and upper limits for the current column\n",
        "    optimal_lower_limit = 0\n",
        "    optimal_upper_limit = 0\n",
        "    \n",
        "    # Iterate over the lower limits range\n",
        "    for lower_limit in lower_limits_range:\n",
        "        # Iterate over the upper limits range\n",
        "        for upper_limit in upper_limits_range:\n",
        "            # Apply winsorizing on the column with the current lower and upper limits\n",
        "            X_winsorized = X.copy()\n",
        "            X_winsorized[column] = winsorize(X_winsorized[column], limits=(lower_limit, upper_limit))\n",
        "        \n",
        "            # Split the winsorized data into training and testing sets\n",
        "            X_train, X_test, y_train, y_test = train_test_split(X_winsorized, y, test_size=0.2, random_state=42)\n",
        "        \n",
        "            # Train Gaussian Naive Bayes\n",
        "            gnb = GaussianNB()\n",
        "            gnb.fit(X_train, y_train)\n",
        "        \n",
        "            # Make predictions and calculate AUC\n",
        "            y_pred = gnb.predict_proba(X_test)[:, 1]\n",
        "            auc = roc_auc_score(y_test, y_pred)\n",
        "        \n",
        "            # Check if the current AUC is higher than the optimal AUC\n",
        "            if auc > optimal_auc:\n",
        "                optimal_auc = auc\n",
        "                optimal_lower_limit = lower_limit\n",
        "                optimal_upper_limit = upper_limit\n",
        "    \n",
        "    # Store the optimal limits for the current column\n",
        "    optimal_limits[column] = (optimal_lower_limit, optimal_upper_limit)\n",
        "\n",
        "# Print the optimal limits for each column\n",
        "for column, (lower_limit, upper_limit) in optimal_limits.items():\n",
        "    print(f\"Optimal limits for column '{column}': Lower Limit = {lower_limit}, Upper Limit = {upper_limit}\")\n",
        "\n",
        "# Print the overall optimal AUC score\n",
        "print(\"Optimal AUC:\", optimal_auc)\n"
      ],
      "metadata": {
        "colab": {
          "base_uri": "https://localhost:8080/"
        },
        "outputId": "99aaec25-6df9-46fa-8465-e5f53a35e580",
        "id": "NJgoRu80I_ji"
      },
      "execution_count": null,
      "outputs": [
        {
          "output_type": "stream",
          "name": "stdout",
          "text": [
            "Optimal limits for column 'age': Lower Limit = 0, Upper Limit = 0\n",
            "Optimal limits for column 'cigsPerDay': Lower Limit = 0.7, Upper Limit = 0.01\n",
            "Optimal limits for column 'totChol': Lower Limit = 0, Upper Limit = 0\n",
            "Optimal limits for column 'sysBP': Lower Limit = 0, Upper Limit = 0\n",
            "Optimal limits for column 'diaBP': Lower Limit = 0.8, Upper Limit = 0\n",
            "Optimal limits for column 'BMI': Lower Limit = 0, Upper Limit = 0\n",
            "Optimal limits for column 'heartRate': Lower Limit = 0, Upper Limit = 0\n",
            "Optimal limits for column 'glucose': Lower Limit = 0.7, Upper Limit = 0.2\n",
            "Optimal limits for column 'sex_M': Lower Limit = 0, Upper Limit = 0\n",
            "Optimal limits for column 'BPMeds_1.0': Lower Limit = 0, Upper Limit = 0\n",
            "Optimal limits for column 'prevalentHyp_1': Lower Limit = 0, Upper Limit = 0.4\n",
            "Optimal limits for column 'diabetes_1': Lower Limit = 0, Upper Limit = 0\n",
            "Optimal AUC: 0.7270663615560642\n"
          ]
        }
      ]
    },
    {
      "cell_type": "code",
      "source": [],
      "metadata": {
        "colab": {
          "base_uri": "https://localhost:8080/"
        },
        "outputId": "513541b5-9df6-4e7d-e961-61e11e8941d3",
        "id": "KTKU6RtMI_ji"
      },
      "execution_count": null,
      "outputs": [
        {
          "output_type": "stream",
          "name": "stdout",
          "text": [
            "Optimal limits for column 'glucose': Lower Limit = 0.15, Upper Limit = 0.15\n",
            "Optimal limits for column 'totChol': Lower Limit = 0, Upper Limit = 0\n",
            "Optimal limits for column 'BMI': Lower Limit = 0, Upper Limit = 0\n",
            "Optimal limits for column 'heartRate': Lower Limit = 0, Upper Limit = 0\n",
            "Optimal AUC: 0.7197803203661327\n"
          ]
        }
      ]
    },
    {
      "cell_type": "code",
      "source": [],
      "metadata": {
        "id": "cGyIfx2-I_ji"
      },
      "execution_count": null,
      "outputs": []
    },
    {
      "cell_type": "markdown",
      "source": [
        "# Exp 3: optimal windsor KNN imputer"
      ],
      "metadata": {
        "id": "xxjn3avlM0Xp"
      }
    },
    {
      "cell_type": "code",
      "source": [
        "df = pd.read_csv('/content/drive/MyDrive/ml1_final_project/data_cardiovascular_risk.csv')\n",
        "\n",
        "columns_to_convert = ['sex', 'education', 'is_smoking', 'BPMeds', 'prevalentStroke', 'prevalentHyp', 'diabetes', 'TenYearCHD']\n",
        "df[columns_to_convert] = df[columns_to_convert].astype('object')\n",
        "\n",
        "categorical_columns = df.select_dtypes(include='object').columns\n",
        "numerical_columns = df.select_dtypes(include=['float', 'int']).columns\n",
        "\n"
      ],
      "metadata": {
        "id": "umg2VXjiM0Xy"
      },
      "execution_count": null,
      "outputs": []
    },
    {
      "cell_type": "code",
      "source": [
        "\n",
        "from sklearn.experimental import enable_iterative_imputer\n",
        "from sklearn.impute import IterativeImputer\n",
        "\n",
        "# Remove rows where 'bpmeds' column is null\n",
        "df = df.dropna(subset=['BPMeds'])\n",
        "\n",
        "imputing_median1 = df[df['is_smoking'] == 'YES']['cigsPerDay'].median()\n",
        "df['cigsPerDay'] = df['cigsPerDay'].fillna(imputing_median1)\n",
        "\n",
        "df.drop('id', axis=1, inplace=True)\n",
        "df.drop('education', axis=1, inplace=True)\n",
        "df.drop(['is_smoking', 'prevalentStroke'], axis=1, inplace=True)\n",
        "\n",
        "from sklearn.impute import KNNImputer\n",
        "\n",
        "for var in ['totChol', 'BMI', 'heartRate']:\n",
        "    imputer = KNNImputer(n_neighbors=5)\n",
        "    df[[var]] = imputer.fit_transform(df[[var]])\n",
        "\n",
        "imputer = KNNImputer(n_neighbors=5)\n",
        "df[['glucose']] = imputer.fit_transform(df[['glucose']])\n",
        "\n",
        "\n",
        "df[['glucose']] = imputer.transform(df[['glucose']])\n"
      ],
      "metadata": {
        "id": "xyb-C5xuM0Xz"
      },
      "execution_count": null,
      "outputs": []
    },
    {
      "cell_type": "code",
      "source": [
        "df.isnull().sum()"
      ],
      "metadata": {
        "colab": {
          "base_uri": "https://localhost:8080/"
        },
        "outputId": "6420ed1c-6c31-41c5-a0c5-aadd92d1c2d9",
        "id": "EJ6T2uSAM0Xz"
      },
      "execution_count": null,
      "outputs": [
        {
          "output_type": "execute_result",
          "data": {
            "text/plain": [
              "age             0\n",
              "sex             0\n",
              "cigsPerDay      0\n",
              "BPMeds          0\n",
              "prevalentHyp    0\n",
              "diabetes        0\n",
              "totChol         0\n",
              "sysBP           0\n",
              "diaBP           0\n",
              "BMI             0\n",
              "heartRate       0\n",
              "glucose         0\n",
              "TenYearCHD      0\n",
              "dtype: int64"
            ]
          },
          "metadata": {},
          "execution_count": 60
        }
      ]
    },
    {
      "cell_type": "code",
      "source": [
        "df = pd.get_dummies(df, drop_first=True)"
      ],
      "metadata": {
        "id": "yMMXvjRkM0Xz"
      },
      "execution_count": null,
      "outputs": []
    },
    {
      "cell_type": "code",
      "source": [
        "X = df.drop(['TenYearCHD_1'], axis = 1)\n",
        "y = df['TenYearCHD_1']"
      ],
      "metadata": {
        "id": "MYL1fxChM0X0"
      },
      "execution_count": null,
      "outputs": []
    },
    {
      "cell_type": "code",
      "source": [
        "X_winsorized = X.copy()"
      ],
      "metadata": {
        "id": "HoYkV5IUM0X0"
      },
      "execution_count": null,
      "outputs": []
    },
    {
      "cell_type": "code",
      "source": [
        "from scipy.stats.mstats import winsorize\n",
        "from sklearn.naive_bayes import GaussianNB\n",
        "from sklearn.metrics import roc_auc_score\n",
        "\n",
        "# Define the range of winsorizing limits to try\n",
        "lower_limits_range = [0, 0.01, 0.05, 0.1, 0.15, 0.1, 0.15, 0.2, 0.3, 0.4, 0.5, 0.6, 0.7, 0.8, 0.9, 0.95]\n",
        "upper_limits_range = [0, 0.01, 0.05, 0.1, 0.15, 0.1, 0.15, 0.2, 0.3, 0.4, 0.5, 0.6, 0.7, 0.8, 0.9, 0.95]\n",
        "\n",
        "# Initialize variables to store the optimal limits and corresponding AUC score\n",
        "optimal_limits = {}\n",
        "optimal_auc = 0\n",
        "\n",
        "# Iterate over the columns\n",
        "for column in X.columns:\n",
        "    # Initialize variables to store the optimal lower and upper limits for the current column\n",
        "    optimal_lower_limit = 0\n",
        "    optimal_upper_limit = 0\n",
        "    \n",
        "    # Iterate over the lower limits range\n",
        "    for lower_limit in lower_limits_range:\n",
        "        # Iterate over the upper limits range\n",
        "        for upper_limit in upper_limits_range:\n",
        "            # Apply winsorizing on the column with the current lower and upper limits\n",
        "            X_winsorized = X.copy()\n",
        "            X_winsorized[column] = winsorize(X_winsorized[column], limits=(lower_limit, upper_limit))\n",
        "        \n",
        "            # Split the winsorized data into training and testing sets\n",
        "            X_train, X_test, y_train, y_test = train_test_split(X_winsorized, y, test_size=0.2, random_state=42)\n",
        "        \n",
        "            # Train Gaussian Naive Bayes\n",
        "            gnb = GaussianNB()\n",
        "            gnb.fit(X_train, y_train)\n",
        "        \n",
        "            # Make predictions and calculate AUC\n",
        "            y_pred = gnb.predict_proba(X_test)[:, 1]\n",
        "            auc = roc_auc_score(y_test, y_pred)\n",
        "        \n",
        "            # Check if the current AUC is higher than the optimal AUC\n",
        "            if auc > optimal_auc:\n",
        "                optimal_auc = auc\n",
        "                optimal_lower_limit = lower_limit\n",
        "                optimal_upper_limit = upper_limit\n",
        "    \n",
        "    # Store the optimal limits for the current column\n",
        "    optimal_limits[column] = (optimal_lower_limit, optimal_upper_limit)\n",
        "\n",
        "# Print the optimal limits for each column\n",
        "for column, (lower_limit, upper_limit) in optimal_limits.items():\n",
        "    print(f\"Optimal limits for column '{column}': Lower Limit = {lower_limit}, Upper Limit = {upper_limit}\")\n",
        "\n",
        "# Print the overall optimal AUC score\n",
        "print(\"Optimal AUC:\", optimal_auc)\n"
      ],
      "metadata": {
        "colab": {
          "base_uri": "https://localhost:8080/"
        },
        "outputId": "1bd964f3-fe85-4e5f-ab64-e74d6f45043f",
        "id": "VlV_SgpLM0X0"
      },
      "execution_count": null,
      "outputs": [
        {
          "output_type": "stream",
          "name": "stdout",
          "text": [
            "Optimal limits for column 'age': Lower Limit = 0, Upper Limit = 0\n",
            "Optimal limits for column 'cigsPerDay': Lower Limit = 0.7, Upper Limit = 0.01\n",
            "Optimal limits for column 'totChol': Lower Limit = 0, Upper Limit = 0\n",
            "Optimal limits for column 'sysBP': Lower Limit = 0, Upper Limit = 0\n",
            "Optimal limits for column 'diaBP': Lower Limit = 0.8, Upper Limit = 0\n",
            "Optimal limits for column 'BMI': Lower Limit = 0, Upper Limit = 0\n",
            "Optimal limits for column 'heartRate': Lower Limit = 0, Upper Limit = 0\n",
            "Optimal limits for column 'glucose': Lower Limit = 0.7, Upper Limit = 0.2\n",
            "Optimal limits for column 'sex_M': Lower Limit = 0, Upper Limit = 0\n",
            "Optimal limits for column 'BPMeds_1.0': Lower Limit = 0, Upper Limit = 0\n",
            "Optimal limits for column 'prevalentHyp_1': Lower Limit = 0, Upper Limit = 0.4\n",
            "Optimal limits for column 'diabetes_1': Lower Limit = 0, Upper Limit = 0\n",
            "Optimal AUC: 0.7270663615560642\n"
          ]
        }
      ]
    },
    {
      "cell_type": "code",
      "source": [],
      "metadata": {
        "id": "2v-yZUWcM0X1"
      },
      "execution_count": null,
      "outputs": []
    },
    {
      "cell_type": "markdown",
      "source": [
        "# Exp 4: Imputation using KNN"
      ],
      "metadata": {
        "id": "617YTxRkUTY9"
      }
    },
    {
      "cell_type": "code",
      "source": [
        "df.isnull().sum()"
      ],
      "metadata": {
        "colab": {
          "base_uri": "https://localhost:8080/"
        },
        "outputId": "6420ed1c-6c31-41c5-a0c5-aadd92d1c2d9",
        "id": "2fGGgZWcTmRr"
      },
      "execution_count": null,
      "outputs": [
        {
          "output_type": "execute_result",
          "data": {
            "text/plain": [
              "age             0\n",
              "sex             0\n",
              "cigsPerDay      0\n",
              "BPMeds          0\n",
              "prevalentHyp    0\n",
              "diabetes        0\n",
              "totChol         0\n",
              "sysBP           0\n",
              "diaBP           0\n",
              "BMI             0\n",
              "heartRate       0\n",
              "glucose         0\n",
              "TenYearCHD      0\n",
              "dtype: int64"
            ]
          },
          "metadata": {},
          "execution_count": 60
        }
      ]
    },
    {
      "cell_type": "code",
      "source": [
        "df = pd.get_dummies(df, drop_first=True)"
      ],
      "metadata": {
        "id": "gwS5wnmDTmRr"
      },
      "execution_count": null,
      "outputs": []
    },
    {
      "cell_type": "code",
      "source": [
        "X = df.drop(['TenYearCHD_1'], axis = 1)\n",
        "y = df['TenYearCHD_1']"
      ],
      "metadata": {
        "id": "CYRPrEueTmRr"
      },
      "execution_count": null,
      "outputs": []
    },
    {
      "cell_type": "code",
      "source": [
        "X_winsorized = X.copy()"
      ],
      "metadata": {
        "id": "ODa-vaHOTmRr"
      },
      "execution_count": null,
      "outputs": []
    },
    {
      "cell_type": "code",
      "source": [
        "from scipy.stats.mstats import winsorize\n",
        "from sklearn.naive_bayes import GaussianNB\n",
        "from sklearn.metrics import roc_auc_score\n",
        "\n",
        "# Define the range of winsorizing limits to try\n",
        "lower_limits_range = [0, 0.01, 0.05, 0.1, 0.15, 0.1, 0.15, 0.2, 0.3, 0.4, 0.5, 0.6, 0.7, 0.8, 0.9, 0.95]\n",
        "upper_limits_range = [0, 0.01, 0.05, 0.1, 0.15, 0.1, 0.15, 0.2, 0.3, 0.4, 0.5, 0.6, 0.7, 0.8, 0.9, 0.95]\n",
        "\n",
        "# Initialize variables to store the optimal limits and corresponding AUC score\n",
        "optimal_limits = {}\n",
        "optimal_auc = 0\n",
        "\n",
        "# Iterate over the columns\n",
        "for column in X.columns:\n",
        "    # Initialize variables to store the optimal lower and upper limits for the current column\n",
        "    optimal_lower_limit = 0\n",
        "    optimal_upper_limit = 0\n",
        "    \n",
        "    # Iterate over the lower limits range\n",
        "    for lower_limit in lower_limits_range:\n",
        "        # Iterate over the upper limits range\n",
        "        for upper_limit in upper_limits_range:\n",
        "            # Apply winsorizing on the column with the current lower and upper limits\n",
        "            X_winsorized = X.copy()\n",
        "            X_winsorized[column] = winsorize(X_winsorized[column], limits=(lower_limit, upper_limit))\n",
        "        \n",
        "            # Split the winsorized data into training and testing sets\n",
        "            X_train, X_test, y_train, y_test = train_test_split(X_winsorized, y, test_size=0.2, random_state=42)\n",
        "        \n",
        "            # Train Gaussian Naive Bayes\n",
        "            gnb = GaussianNB()\n",
        "            gnb.fit(X_train, y_train)\n",
        "        \n",
        "            # Make predictions and calculate AUC\n",
        "            y_pred = gnb.predict_proba(X_test)[:, 1]\n",
        "            auc = roc_auc_score(y_test, y_pred)\n",
        "        \n",
        "            # Check if the current AUC is higher than the optimal AUC\n",
        "            if auc > optimal_auc:\n",
        "                optimal_auc = auc\n",
        "                optimal_lower_limit = lower_limit\n",
        "                optimal_upper_limit = upper_limit\n",
        "    \n",
        "    # Store the optimal limits for the current column\n",
        "    optimal_limits[column] = (optimal_lower_limit, optimal_upper_limit)\n",
        "\n",
        "# Print the optimal limits for each column\n",
        "for column, (lower_limit, upper_limit) in optimal_limits.items():\n",
        "    print(f\"Optimal limits for column '{column}': Lower Limit = {lower_limit}, Upper Limit = {upper_limit}\")\n",
        "\n",
        "# Print the overall optimal AUC score\n",
        "print(\"Optimal AUC:\", optimal_auc)\n"
      ],
      "metadata": {
        "colab": {
          "base_uri": "https://localhost:8080/"
        },
        "outputId": "1bd964f3-fe85-4e5f-ab64-e74d6f45043f",
        "id": "KoakHMDZTmRr"
      },
      "execution_count": null,
      "outputs": [
        {
          "output_type": "stream",
          "name": "stdout",
          "text": [
            "Optimal limits for column 'age': Lower Limit = 0, Upper Limit = 0\n",
            "Optimal limits for column 'cigsPerDay': Lower Limit = 0.7, Upper Limit = 0.01\n",
            "Optimal limits for column 'totChol': Lower Limit = 0, Upper Limit = 0\n",
            "Optimal limits for column 'sysBP': Lower Limit = 0, Upper Limit = 0\n",
            "Optimal limits for column 'diaBP': Lower Limit = 0.8, Upper Limit = 0\n",
            "Optimal limits for column 'BMI': Lower Limit = 0, Upper Limit = 0\n",
            "Optimal limits for column 'heartRate': Lower Limit = 0, Upper Limit = 0\n",
            "Optimal limits for column 'glucose': Lower Limit = 0.7, Upper Limit = 0.2\n",
            "Optimal limits for column 'sex_M': Lower Limit = 0, Upper Limit = 0\n",
            "Optimal limits for column 'BPMeds_1.0': Lower Limit = 0, Upper Limit = 0\n",
            "Optimal limits for column 'prevalentHyp_1': Lower Limit = 0, Upper Limit = 0.4\n",
            "Optimal limits for column 'diabetes_1': Lower Limit = 0, Upper Limit = 0\n",
            "Optimal AUC: 0.7270663615560642\n"
          ]
        }
      ]
    },
    {
      "cell_type": "code",
      "source": [],
      "metadata": {
        "id": "5t9IGcHtTmRr"
      },
      "execution_count": null,
      "outputs": []
    }
  ]
}